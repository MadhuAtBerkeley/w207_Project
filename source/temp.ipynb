{
 "cells": [
  {
   "cell_type": "markdown",
   "metadata": {
    "_uuid": "4dbced162440c393a0a5b7e5aee344711a30e994"
   },
   "source": [
    " <h2>Facial Keypoint Detection</h2>         \n",
    " First of all let's discuss what we are given.        \n",
    "We are given three CSV files.        \n",
    "training.csv :- Its has coordinates of facial keypoints like left eye, rigth eye etc and also the image.      \n",
    "test.csv :- Its has image only and we have to give coordinates of various facial keypoints by looking at third csv file which is IdLookupTable.csv     \n",
    "Rest everything is explained below.      \n",
    "**I would really appreciate if you could upvote this kernel.**\n"
   ]
  },
  {
   "cell_type": "code",
   "execution_count": 1,
   "metadata": {
    "_uuid": "369fa247a546e39d82bdfdc5b7d4ed58baa40e4f"
   },
   "outputs": [],
   "source": [
    "import numpy as np\n",
    "import matplotlib.pyplot as plt\n",
    "import pandas as pd\n",
    "from IPython.display import clear_output\n",
    "from time import sleep\n",
    "import os"
   ]
  },
  {
   "cell_type": "code",
   "execution_count": 2,
   "metadata": {},
   "outputs": [
    {
     "name": "stderr",
     "output_type": "stream",
     "text": [
      "Using TensorFlow backend.\n",
      "/home/user1/anaconda3/lib/python3.7/site-packages/tensorflow/python/framework/dtypes.py:526: FutureWarning: Passing (type, 1) or '1type' as a synonym of type is deprecated; in a future version of numpy, it will be understood as (type, (1,)) / '(1,)type'.\n",
      "  _np_qint8 = np.dtype([(\"qint8\", np.int8, 1)])\n",
      "/home/user1/anaconda3/lib/python3.7/site-packages/tensorflow/python/framework/dtypes.py:527: FutureWarning: Passing (type, 1) or '1type' as a synonym of type is deprecated; in a future version of numpy, it will be understood as (type, (1,)) / '(1,)type'.\n",
      "  _np_quint8 = np.dtype([(\"quint8\", np.uint8, 1)])\n",
      "/home/user1/anaconda3/lib/python3.7/site-packages/tensorflow/python/framework/dtypes.py:528: FutureWarning: Passing (type, 1) or '1type' as a synonym of type is deprecated; in a future version of numpy, it will be understood as (type, (1,)) / '(1,)type'.\n",
      "  _np_qint16 = np.dtype([(\"qint16\", np.int16, 1)])\n",
      "/home/user1/anaconda3/lib/python3.7/site-packages/tensorflow/python/framework/dtypes.py:529: FutureWarning: Passing (type, 1) or '1type' as a synonym of type is deprecated; in a future version of numpy, it will be understood as (type, (1,)) / '(1,)type'.\n",
      "  _np_quint16 = np.dtype([(\"quint16\", np.uint16, 1)])\n",
      "/home/user1/anaconda3/lib/python3.7/site-packages/tensorflow/python/framework/dtypes.py:530: FutureWarning: Passing (type, 1) or '1type' as a synonym of type is deprecated; in a future version of numpy, it will be understood as (type, (1,)) / '(1,)type'.\n",
      "  _np_qint32 = np.dtype([(\"qint32\", np.int32, 1)])\n",
      "/home/user1/anaconda3/lib/python3.7/site-packages/tensorflow/python/framework/dtypes.py:535: FutureWarning: Passing (type, 1) or '1type' as a synonym of type is deprecated; in a future version of numpy, it will be understood as (type, (1,)) / '(1,)type'.\n",
      "  np_resource = np.dtype([(\"resource\", np.ubyte, 1)])\n"
     ]
    },
    {
     "name": "stdout",
     "output_type": "stream",
     "text": [
      "5\n"
     ]
    }
   ],
   "source": [
    "from keras.backend.tensorflow_backend import set_session\n",
    "from keras.backend.tensorflow_backend import clear_session\n",
    "from keras.backend.tensorflow_backend import get_session\n",
    "import tensorflow as tf\n",
    "import gc\n",
    "\n",
    "# Reset Keras Session\n",
    "def reset_keras():\n",
    "    sess = get_session()\n",
    "    clear_session()\n",
    "    sess.close()\n",
    "    sess = get_session()\n",
    "\n",
    "    try:\n",
    "        del model # this is from global space - change this as you need\n",
    "    except:\n",
    "        pass\n",
    "\n",
    "    print(gc.collect()) # if it's done something you should see a number being outputted\n",
    "\n",
    "    # use the same config as you used to create the session\n",
    "    config = tf.ConfigProto()\n",
    "    config.gpu_options.per_process_gpu_memory_fraction = 1\n",
    "    config.gpu_options.visible_device_list = \"0\"\n",
    "    set_session(tf.Session(config=config))\n",
    "    \n",
    "reset_keras()    "
   ]
  },
  {
   "cell_type": "code",
   "execution_count": 3,
   "metadata": {
    "_uuid": "fa1b76273d02502e3fd668dddf74ecf522044524"
   },
   "outputs": [
    {
     "data": {
      "text/plain": [
       "['training', 'test', 'IdLookupTable.csv', 'SampleSubmission.csv']"
      ]
     },
     "execution_count": 3,
     "metadata": {},
     "output_type": "execute_result"
    }
   ],
   "source": [
    "Train_Dir = '../input/training/training.csv'\n",
    "Test_Dir = '../input/test/test.csv'\n",
    "lookid_dir = '../input/IdLookupTable.csv'\n",
    "train_data = pd.read_csv(Train_Dir)  \n",
    "test_data = pd.read_csv(Test_Dir)\n",
    "lookid_data = pd.read_csv(lookid_dir)\n",
    "os.listdir('../input')"
   ]
  },
  {
   "cell_type": "markdown",
   "metadata": {
    "_uuid": "db5d8da6b196bf37a8c9934b2763ebf8dcc25667"
   },
   "source": [
    "Lets explore our dataset"
   ]
  },
  {
   "cell_type": "code",
   "execution_count": null,
   "metadata": {
    "_uuid": "cfd045f7166f9cce2e2075b3ead83813d07012c8"
   },
   "outputs": [],
   "source": [
    "train_data.head().T"
   ]
  },
  {
   "cell_type": "markdown",
   "metadata": {
    "_uuid": "14ae8eb84c1ed40db949d6dddeba331b2ed84487"
   },
   "source": [
    "Lets check for missing values"
   ]
  },
  {
   "cell_type": "code",
   "execution_count": 4,
   "metadata": {
    "_uuid": "67368f645afe618d6fc717552a6847de7e5ec66a"
   },
   "outputs": [
    {
     "data": {
      "text/plain": [
       "True     28\n",
       "False     3\n",
       "dtype: int64"
      ]
     },
     "execution_count": 4,
     "metadata": {},
     "output_type": "execute_result"
    }
   ],
   "source": [
    "train_data.isnull().any().value_counts()"
   ]
  },
  {
   "cell_type": "markdown",
   "metadata": {
    "_uuid": "f55b89f149e6bbc79d0e9c636c64c5c6fc7192b2"
   },
   "source": [
    "So there are missing values in 28 columns. We can do two things here one remove the rows having missing values and another is the fill missing values with something. I used two option as removing rows will reduce our dataset. \n",
    "I filled the missing values with the previous values in that row."
   ]
  },
  {
   "cell_type": "code",
   "execution_count": 5,
   "metadata": {
    "_uuid": "69165acb462a9b47f22fe81a8fe8eaaca4f518d2"
   },
   "outputs": [],
   "source": [
    "\n",
    "train_data.fillna(method = 'ffill',inplace = True)\n",
    "#train_data.reset_index(drop = True,inplace = True)\n"
   ]
  },
  {
   "cell_type": "markdown",
   "metadata": {
    "_uuid": "e6cd1f4c243b44ecc0530bf416d761930a4f94d1"
   },
   "source": [
    "Lets check for missing values now"
   ]
  },
  {
   "cell_type": "code",
   "execution_count": 6,
   "metadata": {
    "_uuid": "29ca4e12ec805d837ec4eac91cb91d5a133f8740"
   },
   "outputs": [
    {
     "data": {
      "text/plain": [
       "False    31\n",
       "dtype: int64"
      ]
     },
     "execution_count": 6,
     "metadata": {},
     "output_type": "execute_result"
    }
   ],
   "source": [
    "train_data.isnull().any().value_counts()"
   ]
  },
  {
   "cell_type": "markdown",
   "metadata": {
    "_uuid": "e1b88f1528838c0a8fec61f9a02a70b5077312e9"
   },
   "source": [
    "As there is no missing values we can now separate the labels and features.\n",
    "The image is our feature and other values are labes that we have to predict later.\n",
    "As image column values are in string format and there is also some missing values so we have to split the string by space and append it and also handling missing values"
   ]
  },
  {
   "cell_type": "code",
   "execution_count": 7,
   "metadata": {
    "_uuid": "e78ca4523425835f1b584f3e30e5c9dcc8014253"
   },
   "outputs": [],
   "source": [
    "\n",
    "imag = []\n",
    "for i in range(0,7049):\n",
    "    img = train_data['Image'][i].split(' ')\n",
    "    img = ['0' if x == '' else x for x in img]\n",
    "    imag.append(img)\n",
    "    \n",
    "    "
   ]
  },
  {
   "cell_type": "markdown",
   "metadata": {
    "_uuid": "e112a93d30f86687f80fb01d9f916633d87682db"
   },
   "source": [
    "Lets reshape and convert it into float value."
   ]
  },
  {
   "cell_type": "code",
   "execution_count": 8,
   "metadata": {
    "_uuid": "da09436050dc2df5da7cb49ad90125b1b756f1a4"
   },
   "outputs": [],
   "source": [
    "image_list = np.array(imag,dtype = 'float')\n",
    "X_train = image_list.reshape(-1,96,96,1)\n",
    "\n"
   ]
  },
  {
   "cell_type": "markdown",
   "metadata": {
    "_uuid": "58a352bb3b38dadf37da1a6b62798fe1e3df8614",
    "collapsed": true
   },
   "source": [
    "Lets see what is the first image."
   ]
  },
  {
   "cell_type": "code",
   "execution_count": 9,
   "metadata": {
    "_uuid": "3e953b9fa753d6f7c1092a2d8d2faf6cff5a4f93"
   },
   "outputs": [
    {
     "data": {
      "image/png": "[encoded data removed]",
      "text/plain": [
       "<Figure size 432x288 with 1 Axes>"
      ]
     },
     "metadata": {
      "needs_background": "light"
     },
     "output_type": "display_data"
    }
   ],
   "source": [
    "plt.imshow(X_train[0].reshape(96,96),cmap='gray')\n",
    "plt.show()"
   ]
  },
  {
   "cell_type": "markdown",
   "metadata": {
    "_uuid": "a833f4cc5e559774d3a310fd09d40d31e49e71da"
   },
   "source": [
    "Now lets separate labels."
   ]
  },
  {
   "cell_type": "code",
   "execution_count": 10,
   "metadata": {
    "_uuid": "e9d804a035809cdf8ffda19f41ce3feb278a38fb"
   },
   "outputs": [],
   "source": [
    "training = train_data.drop('Image',axis = 1)\n",
    "\n",
    "y_train = []\n",
    "for i in range(0,7049):\n",
    "    y = training.iloc[i,:]\n",
    "\n",
    "    y_train.append(y)\n",
    "y_train = np.array(y_train,dtype = 'float')\n",
    "\n"
   ]
  },
  {
   "cell_type": "markdown",
   "metadata": {
    "_uuid": "d1ade36c2a9ffc30411987384691c49a8859818b"
   },
   "source": [
    "As our data is ready for training , lets define our model. I am using keras and simple dense layers. For loss function I am using 'mse' ( mean squared error ) as we have to predict new values. Our result evaluted on the basics of 'mae' ( mean absolute error ) . "
   ]
  },
  {
   "cell_type": "code",
   "execution_count": 11,
   "metadata": {},
   "outputs": [],
   "source": [
    "from tensorflow.keras.layers import LeakyReLU\n",
    "from tensorflow.keras.models import Sequential, Model\n",
    "from tensorflow.keras.layers import Activation, Convolution2D, MaxPooling2D, BatchNormalization, Flatten, Dense, Dropout, Conv2D,MaxPool2D, ZeroPadding2D"
   ]
  },
  {
   "cell_type": "code",
   "execution_count": 12,
   "metadata": {},
   "outputs": [
    {
     "name": "stdout",
     "output_type": "stream",
     "text": [
      "WARNING:tensorflow:From /home/user1/anaconda3/lib/python3.7/site-packages/tensorflow/python/ops/resource_variable_ops.py:435: colocate_with (from tensorflow.python.framework.ops) is deprecated and will be removed in a future version.\n",
      "Instructions for updating:\n",
      "Colocations handled automatically by placer.\n",
      "WARNING:tensorflow:From /home/user1/anaconda3/lib/python3.7/site-packages/tensorflow/python/keras/layers/core.py:143: calling dropout (from tensorflow.python.ops.nn_ops) with keep_prob is deprecated and will be removed in a future version.\n",
      "Instructions for updating:\n",
      "Please use `rate` instead of `keep_prob`. Rate should be set to `rate = 1 - keep_prob`.\n",
      "_________________________________________________________________\n",
      "Layer (type)                 Output Shape              Param #   \n",
      "=================================================================\n",
      "conv2d (Conv2D)              (None, 96, 96, 32)        288       \n",
      "_________________________________________________________________\n",
      "leaky_re_lu (LeakyReLU)      (None, 96, 96, 32)        0         \n",
      "_________________________________________________________________\n",
      "batch_normalization_v1 (Batc (None, 96, 96, 32)        128       \n",
      "_________________________________________________________________\n",
      "max_pooling2d (MaxPooling2D) (None, 48, 48, 32)        0         \n",
      "_________________________________________________________________\n",
      "conv2d_1 (Conv2D)            (None, 48, 48, 64)        18432     \n",
      "_________________________________________________________________\n",
      "leaky_re_lu_1 (LeakyReLU)    (None, 48, 48, 64)        0         \n",
      "_________________________________________________________________\n",
      "batch_normalization_v1_1 (Ba (None, 48, 48, 64)        256       \n",
      "_________________________________________________________________\n",
      "max_pooling2d_1 (MaxPooling2 (None, 24, 24, 64)        0         \n",
      "_________________________________________________________________\n",
      "conv2d_2 (Conv2D)            (None, 24, 24, 96)        55296     \n",
      "_________________________________________________________________\n",
      "leaky_re_lu_2 (LeakyReLU)    (None, 24, 24, 96)        0         \n",
      "_________________________________________________________________\n",
      "batch_normalization_v1_2 (Ba (None, 24, 24, 96)        384       \n",
      "_________________________________________________________________\n",
      "max_pooling2d_2 (MaxPooling2 (None, 12, 12, 96)        0         \n",
      "_________________________________________________________________\n",
      "conv2d_3 (Conv2D)            (None, 12, 12, 128)       110592    \n",
      "_________________________________________________________________\n",
      "leaky_re_lu_3 (LeakyReLU)    (None, 12, 12, 128)       0         \n",
      "_________________________________________________________________\n",
      "batch_normalization_v1_3 (Ba (None, 12, 12, 128)       512       \n",
      "_________________________________________________________________\n",
      "max_pooling2d_3 (MaxPooling2 (None, 6, 6, 128)         0         \n",
      "_________________________________________________________________\n",
      "conv2d_4 (Conv2D)            (None, 6, 6, 256)         294912    \n",
      "_________________________________________________________________\n",
      "leaky_re_lu_4 (LeakyReLU)    (None, 6, 6, 256)         0         \n",
      "_________________________________________________________________\n",
      "batch_normalization_v1_4 (Ba (None, 6, 6, 256)         1024      \n",
      "_________________________________________________________________\n",
      "max_pooling2d_4 (MaxPooling2 (None, 3, 3, 256)         0         \n",
      "_________________________________________________________________\n",
      "conv2d_5 (Conv2D)            (None, 3, 3, 512)         1179648   \n",
      "_________________________________________________________________\n",
      "leaky_re_lu_5 (LeakyReLU)    (None, 3, 3, 512)         0         \n",
      "_________________________________________________________________\n",
      "batch_normalization_v1_5 (Ba (None, 3, 3, 512)         2048      \n",
      "_________________________________________________________________\n",
      "flatten (Flatten)            (None, 4608)              0         \n",
      "_________________________________________________________________\n",
      "dense (Dense)                (None, 512)               2359808   \n",
      "_________________________________________________________________\n",
      "dropout (Dropout)            (None, 512)               0         \n",
      "_________________________________________________________________\n",
      "dense_1 (Dense)              (None, 30)                15390     \n",
      "=================================================================\n",
      "Total params: 4,038,718\n",
      "Trainable params: 4,036,542\n",
      "Non-trainable params: 2,176\n",
      "_________________________________________________________________\n"
     ]
    }
   ],
   "source": [
    "model = Sequential()\n",
    "\n",
    "model.add(Convolution2D(32, (3,3), padding='same', use_bias=False, input_shape=(96,96,1)))\n",
    "model.add(LeakyReLU(alpha = 0.1))\n",
    "model.add(BatchNormalization())\n",
    "\n",
    "model.add(MaxPool2D(pool_size=(2, 2)))\n",
    "\n",
    "\n",
    "model.add(Convolution2D(64, (3,3), padding='same', use_bias=False))\n",
    "model.add(LeakyReLU(alpha = 0.1))\n",
    "model.add(BatchNormalization())\n",
    "model.add(MaxPool2D(pool_size=(2, 2)))\n",
    "\n",
    "\n",
    "model.add(Convolution2D(96, (3,3), padding='same', use_bias=False))\n",
    "model.add(LeakyReLU(alpha = 0.1))\n",
    "model.add(BatchNormalization())\n",
    "model.add(MaxPool2D(pool_size=(2, 2)))\n",
    "\n",
    "\n",
    "\n",
    "model.add(Convolution2D(128, (3,3),padding='same', use_bias=False))\n",
    "model.add(LeakyReLU(alpha = 0.1))\n",
    "model.add(BatchNormalization())\n",
    "model.add(MaxPool2D(pool_size=(2, 2)))\n",
    "\n",
    "\n",
    "model.add(Convolution2D(256, (3,3),padding='same',use_bias=False))\n",
    "model.add(LeakyReLU(alpha = 0.1))\n",
    "model.add(BatchNormalization())\n",
    "model.add(MaxPool2D(pool_size=(2, 2)))\n",
    "\n",
    "model.add(Convolution2D(512, (3,3), padding='same', use_bias=False))\n",
    "model.add(LeakyReLU(alpha = 0.1))\n",
    "model.add(BatchNormalization())\n",
    "\n",
    "\n",
    "model.add(Flatten())\n",
    "model.add(Dense(512,activation='relu'))\n",
    "model.add(Dropout(0.1))\n",
    "model.add(Dense(30))\n",
    "model.summary()"
   ]
  },
  {
   "cell_type": "code",
   "execution_count": 13,
   "metadata": {},
   "outputs": [
    {
     "name": "stdout",
     "output_type": "stream",
     "text": [
      "WARNING:tensorflow:From /home/user1/anaconda3/lib/python3.7/site-packages/tensorflow/python/keras/utils/losses_utils.py:170: to_float (from tensorflow.python.ops.math_ops) is deprecated and will be removed in a future version.\n",
      "Instructions for updating:\n",
      "Use tf.cast instead.\n"
     ]
    }
   ],
   "source": [
    "from tensorflow.keras.optimizers import Nadam\n",
    "#from tensorflow.keras.optimizers.schedules import InverseTimeDecay\n",
    "\n",
    "optimizer = Nadam(lr=0.00001,\n",
    "                  beta_1=0.9,\n",
    "                  beta_2=0.999,\n",
    "                  epsilon=1e-08,\n",
    "                  schedule_decay=0.004)\n",
    "\n",
    "\n",
    "\n",
    "model.compile(loss = 'mean_squared_error', optimizer= optimizer, \n",
    "              #loss='mean_squared_error',\n",
    "              metrics=['mae'])"
   ]
  },
  {
   "cell_type": "markdown",
   "metadata": {
    "_uuid": "e4cf4686b410841f2e34dbb081f3429d1b0f67e9"
   },
   "source": [
    "Now our model is defined and we will train it by calling fit method. I ran it for 500 iteration keeping batch size and validtion set size as 20% ( 20% of the training data will be kept for validating the model )."
   ]
  },
  {
   "cell_type": "code",
   "execution_count": 14,
   "metadata": {
    "_uuid": "894af9cbfcf2dca50e7407946cad318157b77d0a",
    "scrolled": true
   },
   "outputs": [
    {
     "name": "stdout",
     "output_type": "stream",
     "text": [
      "Train on 5639 samples, validate on 1410 samples\n",
      "WARNING:tensorflow:From /home/user1/anaconda3/lib/python3.7/site-packages/tensorflow/python/ops/math_ops.py:3066: to_int32 (from tensorflow.python.ops.math_ops) is deprecated and will be removed in a future version.\n",
      "Instructions for updating:\n",
      "Use tf.cast instead.\n",
      "Epoch 1/200\n",
      "5639/5639 [==============================] - 8s 1ms/sample - loss: 2576.4796 - mean_absolute_error: 47.2687 - val_loss: 2664.1596 - val_mean_absolute_error: 48.1309\n",
      "Epoch 2/200\n",
      "5639/5639 [==============================] - 4s 677us/sample - loss: 2342.3792 - mean_absolute_error: 45.0581 - val_loss: 2645.2371 - val_mean_absolute_error: 47.9508\n",
      "Epoch 3/200\n",
      "5639/5639 [==============================] - 4s 667us/sample - loss: 2021.6760 - mean_absolute_error: 41.8019 - val_loss: 2619.0153 - val_mean_absolute_error: 47.6997\n",
      "Epoch 4/200\n",
      "5639/5639 [==============================] - 4s 653us/sample - loss: 1650.7569 - mean_absolute_error: 37.6352 - val_loss: 2564.7234 - val_mean_absolute_error: 47.1903\n",
      "Epoch 5/200\n",
      "5639/5639 [==============================] - 4s 711us/sample - loss: 1293.3591 - mean_absolute_error: 33.1060 - val_loss: 2440.9115 - val_mean_absolute_error: 46.0198\n",
      "Epoch 6/200\n",
      "5639/5639 [==============================] - 4s 633us/sample - loss: 986.6221 - mean_absolute_error: 28.6022 - val_loss: 2203.9048 - val_mean_absolute_error: 43.6914\n",
      "Epoch 7/200\n",
      "5639/5639 [==============================] - 4s 691us/sample - loss: 737.8330 - mean_absolute_error: 24.3457 - val_loss: 1886.8278 - val_mean_absolute_error: 40.3542\n",
      "Epoch 8/200\n",
      "5639/5639 [==============================] - 4s 647us/sample - loss: 541.3880 - mean_absolute_error: 20.4221 - val_loss: 1538.5890 - val_mean_absolute_error: 36.3289\n",
      "Epoch 9/200\n",
      "5639/5639 [==============================] - 4s 701us/sample - loss: 392.3574 - mean_absolute_error: 16.9674 - val_loss: 1204.8722 - val_mean_absolute_error: 32.0084\n",
      "Epoch 10/200\n",
      "5639/5639 [==============================] - 4s 643us/sample - loss: 280.1541 - mean_absolute_error: 13.9755 - val_loss: 902.2965 - val_mean_absolute_error: 27.5357\n",
      "Epoch 11/200\n",
      "5639/5639 [==============================] - 3s 582us/sample - loss: 200.1951 - mean_absolute_error: 11.5465 - val_loss: 653.0279 - val_mean_absolute_error: 23.2491\n",
      "Epoch 12/200\n",
      "5639/5639 [==============================] - 4s 702us/sample - loss: 144.5838 - mean_absolute_error: 9.6442 - val_loss: 447.2976 - val_mean_absolute_error: 19.0294\n",
      "Epoch 13/200\n",
      "5639/5639 [==============================] - 4s 704us/sample - loss: 106.4825 - mean_absolute_error: 8.1782 - val_loss: 324.3837 - val_mean_absolute_error: 16.0715\n",
      "Epoch 14/200\n",
      "5639/5639 [==============================] - 4s 656us/sample - loss: 81.9743 - mean_absolute_error: 7.1335 - val_loss: 226.4857 - val_mean_absolute_error: 13.2774\n",
      "Epoch 15/200\n",
      "5639/5639 [==============================] - 4s 755us/sample - loss: 65.6643 - mean_absolute_error: 6.3650 - val_loss: 156.8562 - val_mean_absolute_error: 10.8841\n",
      "Epoch 16/200\n",
      "5639/5639 [==============================] - 4s 671us/sample - loss: 55.4098 - mean_absolute_error: 5.8504 - val_loss: 117.3164 - val_mean_absolute_error: 9.3116\n",
      "Epoch 17/200\n",
      "5639/5639 [==============================] - 3s 563us/sample - loss: 48.9411 - mean_absolute_error: 5.4986 - val_loss: 91.5530 - val_mean_absolute_error: 8.1450\n",
      "Epoch 18/200\n",
      "5639/5639 [==============================] - 4s 695us/sample - loss: 45.0459 - mean_absolute_error: 5.2537 - val_loss: 66.1325 - val_mean_absolute_error: 6.7891\n",
      "Epoch 19/200\n",
      "5639/5639 [==============================] - 3s 606us/sample - loss: 42.6085 - mean_absolute_error: 5.1169 - val_loss: 55.4681 - val_mean_absolute_error: 6.1695\n",
      "Epoch 20/200\n",
      "5639/5639 [==============================] - 4s 682us/sample - loss: 40.7032 - mean_absolute_error: 4.9977 - val_loss: 47.8464 - val_mean_absolute_error: 5.6866\n",
      "Epoch 21/200\n",
      "5639/5639 [==============================] - 4s 671us/sample - loss: 39.6765 - mean_absolute_error: 4.9293 - val_loss: 40.0242 - val_mean_absolute_error: 5.1320\n",
      "Epoch 22/200\n",
      "5639/5639 [==============================] - 4s 701us/sample - loss: 38.9308 - mean_absolute_error: 4.8791 - val_loss: 33.4438 - val_mean_absolute_error: 4.6382\n",
      "Epoch 23/200\n",
      "5639/5639 [==============================] - 4s 649us/sample - loss: 38.0112 - mean_absolute_error: 4.8239 - val_loss: 29.2413 - val_mean_absolute_error: 4.2796\n",
      "Epoch 24/200\n",
      "5639/5639 [==============================] - 4s 647us/sample - loss: 37.5486 - mean_absolute_error: 4.8026 - val_loss: 27.5387 - val_mean_absolute_error: 4.1234\n",
      "Epoch 25/200\n",
      "5639/5639 [==============================] - 4s 714us/sample - loss: 37.0724 - mean_absolute_error: 4.7671 - val_loss: 27.8088 - val_mean_absolute_error: 4.1392\n",
      "Epoch 26/200\n",
      "5639/5639 [==============================] - 4s 659us/sample - loss: 37.0356 - mean_absolute_error: 4.7509 - val_loss: 21.6230 - val_mean_absolute_error: 3.5605\n",
      "Epoch 27/200\n",
      "5639/5639 [==============================] - 4s 643us/sample - loss: 36.5849 - mean_absolute_error: 4.7347 - val_loss: 20.4228 - val_mean_absolute_error: 3.4574\n",
      "Epoch 28/200\n",
      "5639/5639 [==============================] - 4s 656us/sample - loss: 35.9759 - mean_absolute_error: 4.6947 - val_loss: 17.5831 - val_mean_absolute_error: 3.1321\n",
      "Epoch 29/200\n",
      "5639/5639 [==============================] - 4s 661us/sample - loss: 36.0710 - mean_absolute_error: 4.6944 - val_loss: 16.5439 - val_mean_absolute_error: 3.0244\n",
      "Epoch 30/200\n",
      "5639/5639 [==============================] - 4s 660us/sample - loss: 35.5844 - mean_absolute_error: 4.6668 - val_loss: 16.6263 - val_mean_absolute_error: 3.0399\n",
      "Epoch 31/200\n",
      "5639/5639 [==============================] - 4s 626us/sample - loss: 35.4996 - mean_absolute_error: 4.6584 - val_loss: 14.4242 - val_mean_absolute_error: 2.7421\n",
      "Epoch 32/200\n",
      "5639/5639 [==============================] - 4s 626us/sample - loss: 35.2837 - mean_absolute_error: 4.6438 - val_loss: 14.1551 - val_mean_absolute_error: 2.7517\n",
      "Epoch 33/200\n",
      "5639/5639 [==============================] - 4s 624us/sample - loss: 35.0431 - mean_absolute_error: 4.6269 - val_loss: 12.6206 - val_mean_absolute_error: 2.5410\n",
      "Epoch 34/200\n",
      "5639/5639 [==============================] - 4s 623us/sample - loss: 34.7252 - mean_absolute_error: 4.6031 - val_loss: 12.8875 - val_mean_absolute_error: 2.5821\n",
      "Epoch 35/200\n",
      "5639/5639 [==============================] - 4s 633us/sample - loss: 34.4140 - mean_absolute_error: 4.5807 - val_loss: 12.0323 - val_mean_absolute_error: 2.4447\n",
      "Epoch 36/200\n",
      "5639/5639 [==============================] - 4s 628us/sample - loss: 34.1454 - mean_absolute_error: 4.5606 - val_loss: 11.3201 - val_mean_absolute_error: 2.3765\n",
      "Epoch 37/200\n",
      "5639/5639 [==============================] - 4s 622us/sample - loss: 34.0707 - mean_absolute_error: 4.5593 - val_loss: 11.0445 - val_mean_absolute_error: 2.3393\n",
      "Epoch 38/200\n",
      "5639/5639 [==============================] - 4s 626us/sample - loss: 33.8349 - mean_absolute_error: 4.5507 - val_loss: 10.6002 - val_mean_absolute_error: 2.2749\n",
      "Epoch 39/200\n",
      "5639/5639 [==============================] - 4s 625us/sample - loss: 33.3604 - mean_absolute_error: 4.5116 - val_loss: 10.1592 - val_mean_absolute_error: 2.2282\n",
      "Epoch 40/200\n",
      "5639/5639 [==============================] - 4s 695us/sample - loss: 33.5260 - mean_absolute_error: 4.5192 - val_loss: 10.3093 - val_mean_absolute_error: 2.2362\n",
      "Epoch 41/200\n",
      "5639/5639 [==============================] - 4s 650us/sample - loss: 33.2615 - mean_absolute_error: 4.5033 - val_loss: 10.1943 - val_mean_absolute_error: 2.2153\n",
      "Epoch 42/200\n",
      "5639/5639 [==============================] - 4s 641us/sample - loss: 33.1230 - mean_absolute_error: 4.4899 - val_loss: 9.7920 - val_mean_absolute_error: 2.1659\n",
      "Epoch 43/200\n",
      "5639/5639 [==============================] - 4s 639us/sample - loss: 33.0297 - mean_absolute_error: 4.4858 - val_loss: 10.7008 - val_mean_absolute_error: 2.3071\n",
      "Epoch 44/200\n",
      "5639/5639 [==============================] - 4s 625us/sample - loss: 32.8223 - mean_absolute_error: 4.4663 - val_loss: 10.0068 - val_mean_absolute_error: 2.1986\n",
      "Epoch 45/200\n",
      "5639/5639 [==============================] - 4s 648us/sample - loss: 32.4789 - mean_absolute_error: 4.4531 - val_loss: 9.4041 - val_mean_absolute_error: 2.1104\n"
     ]
    },
    {
     "name": "stdout",
     "output_type": "stream",
     "text": [
      "Epoch 46/200\n",
      "5639/5639 [==============================] - 3s 584us/sample - loss: 32.3839 - mean_absolute_error: 4.4385 - val_loss: 9.6466 - val_mean_absolute_error: 2.1525\n",
      "Epoch 47/200\n",
      "5639/5639 [==============================] - 3s 596us/sample - loss: 31.9557 - mean_absolute_error: 4.4141 - val_loss: 9.1743 - val_mean_absolute_error: 2.0719\n",
      "Epoch 48/200\n",
      "5639/5639 [==============================] - 3s 583us/sample - loss: 32.0128 - mean_absolute_error: 4.4187 - val_loss: 9.2002 - val_mean_absolute_error: 2.0843\n",
      "Epoch 49/200\n",
      "5639/5639 [==============================] - 3s 582us/sample - loss: 31.7222 - mean_absolute_error: 4.3957 - val_loss: 9.3608 - val_mean_absolute_error: 2.1094\n",
      "Epoch 50/200\n",
      "5639/5639 [==============================] - 3s 581us/sample - loss: 31.7392 - mean_absolute_error: 4.4019 - val_loss: 8.7125 - val_mean_absolute_error: 1.9972\n",
      "Epoch 51/200\n",
      "5639/5639 [==============================] - 3s 581us/sample - loss: 31.5870 - mean_absolute_error: 4.3915 - val_loss: 9.4393 - val_mean_absolute_error: 2.1324\n",
      "Epoch 52/200\n",
      "5639/5639 [==============================] - 3s 583us/sample - loss: 31.1289 - mean_absolute_error: 4.3511 - val_loss: 8.5970 - val_mean_absolute_error: 1.9927\n",
      "Epoch 53/200\n",
      "5639/5639 [==============================] - 3s 584us/sample - loss: 31.1887 - mean_absolute_error: 4.3597 - val_loss: 8.6287 - val_mean_absolute_error: 1.9993\n",
      "Epoch 54/200\n",
      "5639/5639 [==============================] - 3s 580us/sample - loss: 31.1579 - mean_absolute_error: 4.3566 - val_loss: 7.9522 - val_mean_absolute_error: 1.8833\n",
      "Epoch 55/200\n",
      "5639/5639 [==============================] - 3s 584us/sample - loss: 30.9723 - mean_absolute_error: 4.3439 - val_loss: 8.2522 - val_mean_absolute_error: 1.9293\n",
      "Epoch 56/200\n",
      "5639/5639 [==============================] - 3s 589us/sample - loss: 30.8474 - mean_absolute_error: 4.3361 - val_loss: 8.5929 - val_mean_absolute_error: 1.9930\n",
      "Epoch 57/200\n",
      "5639/5639 [==============================] - 3s 581us/sample - loss: 30.5253 - mean_absolute_error: 4.3037 - val_loss: 8.3461 - val_mean_absolute_error: 1.9547\n",
      "Epoch 58/200\n",
      "5639/5639 [==============================] - 3s 596us/sample - loss: 30.5181 - mean_absolute_error: 4.3039 - val_loss: 8.2261 - val_mean_absolute_error: 1.9343\n",
      "Epoch 59/200\n",
      "5639/5639 [==============================] - 3s 583us/sample - loss: 30.1365 - mean_absolute_error: 4.2846 - val_loss: 8.2582 - val_mean_absolute_error: 1.9339\n",
      "Epoch 60/200\n",
      "5639/5639 [==============================] - 3s 592us/sample - loss: 30.1369 - mean_absolute_error: 4.2849 - val_loss: 7.8295 - val_mean_absolute_error: 1.8588\n",
      "Epoch 61/200\n",
      "5639/5639 [==============================] - 3s 584us/sample - loss: 30.0736 - mean_absolute_error: 4.2746 - val_loss: 7.8603 - val_mean_absolute_error: 1.8727\n",
      "Epoch 62/200\n",
      "5639/5639 [==============================] - 3s 583us/sample - loss: 29.8185 - mean_absolute_error: 4.2649 - val_loss: 8.2073 - val_mean_absolute_error: 1.9391\n",
      "Epoch 63/200\n",
      "5639/5639 [==============================] - 3s 587us/sample - loss: 29.7728 - mean_absolute_error: 4.2509 - val_loss: 8.1110 - val_mean_absolute_error: 1.9217\n",
      "Epoch 64/200\n",
      "5639/5639 [==============================] - 3s 586us/sample - loss: 29.6890 - mean_absolute_error: 4.2484 - val_loss: 7.9689 - val_mean_absolute_error: 1.8902\n",
      "Epoch 65/200\n",
      "5639/5639 [==============================] - 3s 581us/sample - loss: 29.3321 - mean_absolute_error: 4.2159 - val_loss: 7.4512 - val_mean_absolute_error: 1.7999\n",
      "Epoch 66/200\n",
      "5639/5639 [==============================] - 3s 580us/sample - loss: 29.2362 - mean_absolute_error: 4.2181 - val_loss: 7.8704 - val_mean_absolute_error: 1.8781\n",
      "Epoch 67/200\n",
      "5639/5639 [==============================] - 3s 587us/sample - loss: 28.9789 - mean_absolute_error: 4.1950 - val_loss: 7.6597 - val_mean_absolute_error: 1.8493\n",
      "Epoch 68/200\n",
      "5639/5639 [==============================] - 3s 581us/sample - loss: 28.8390 - mean_absolute_error: 4.1852 - val_loss: 7.5134 - val_mean_absolute_error: 1.8177\n",
      "Epoch 69/200\n",
      "5639/5639 [==============================] - 3s 581us/sample - loss: 28.6280 - mean_absolute_error: 4.1687 - val_loss: 7.9196 - val_mean_absolute_error: 1.8913\n",
      "Epoch 70/200\n",
      "5639/5639 [==============================] - 3s 582us/sample - loss: 28.7977 - mean_absolute_error: 4.1767 - val_loss: 7.5697 - val_mean_absolute_error: 1.8253\n",
      "Epoch 71/200\n",
      "5639/5639 [==============================] - 3s 586us/sample - loss: 28.5591 - mean_absolute_error: 4.1637 - val_loss: 7.8413 - val_mean_absolute_error: 1.8609\n",
      "Epoch 72/200\n",
      "5639/5639 [==============================] - 3s 580us/sample - loss: 28.4685 - mean_absolute_error: 4.1493 - val_loss: 7.1447 - val_mean_absolute_error: 1.7430\n",
      "Epoch 73/200\n",
      "5639/5639 [==============================] - 3s 583us/sample - loss: 28.3062 - mean_absolute_error: 4.1456 - val_loss: 7.1349 - val_mean_absolute_error: 1.7454\n",
      "Epoch 74/200\n",
      "5639/5639 [==============================] - 3s 584us/sample - loss: 28.0493 - mean_absolute_error: 4.1277 - val_loss: 7.5488 - val_mean_absolute_error: 1.8155\n",
      "Epoch 75/200\n",
      "5639/5639 [==============================] - 3s 581us/sample - loss: 27.8962 - mean_absolute_error: 4.1162 - val_loss: 7.4575 - val_mean_absolute_error: 1.8009\n",
      "Epoch 76/200\n",
      "5639/5639 [==============================] - 3s 581us/sample - loss: 27.8547 - mean_absolute_error: 4.1123 - val_loss: 7.5931 - val_mean_absolute_error: 1.8392\n",
      "Epoch 77/200\n",
      "5639/5639 [==============================] - 3s 579us/sample - loss: 27.8440 - mean_absolute_error: 4.1088 - val_loss: 7.6054 - val_mean_absolute_error: 1.8329\n",
      "Epoch 78/200\n",
      "5639/5639 [==============================] - 3s 584us/sample - loss: 27.6133 - mean_absolute_error: 4.0894 - val_loss: 7.8829 - val_mean_absolute_error: 1.8762\n",
      "Epoch 79/200\n",
      "5639/5639 [==============================] - 3s 585us/sample - loss: 27.4292 - mean_absolute_error: 4.0810 - val_loss: 8.9044 - val_mean_absolute_error: 2.0737\n",
      "Epoch 80/200\n",
      "5639/5639 [==============================] - 3s 585us/sample - loss: 27.1311 - mean_absolute_error: 4.0547 - val_loss: 8.3357 - val_mean_absolute_error: 1.9790\n",
      "Epoch 81/200\n",
      "5639/5639 [==============================] - 3s 581us/sample - loss: 27.4066 - mean_absolute_error: 4.0781 - val_loss: 8.2033 - val_mean_absolute_error: 1.9602\n",
      "Epoch 82/200\n",
      "5639/5639 [==============================] - 3s 593us/sample - loss: 27.1030 - mean_absolute_error: 4.0493 - val_loss: 7.1351 - val_mean_absolute_error: 1.7488\n",
      "Epoch 83/200\n",
      "5639/5639 [==============================] - 3s 585us/sample - loss: 26.9108 - mean_absolute_error: 4.0353 - val_loss: 7.4069 - val_mean_absolute_error: 1.8031\n",
      "Epoch 84/200\n",
      "5639/5639 [==============================] - 3s 581us/sample - loss: 26.9099 - mean_absolute_error: 4.0451 - val_loss: 7.1335 - val_mean_absolute_error: 1.7588\n",
      "Epoch 85/200\n",
      "5639/5639 [==============================] - 3s 584us/sample - loss: 26.8470 - mean_absolute_error: 4.0368 - val_loss: 6.8790 - val_mean_absolute_error: 1.7135\n",
      "Epoch 86/200\n",
      "5639/5639 [==============================] - 3s 582us/sample - loss: 26.7264 - mean_absolute_error: 4.0203 - val_loss: 7.1052 - val_mean_absolute_error: 1.7547\n",
      "Epoch 87/200\n",
      "5639/5639 [==============================] - 3s 585us/sample - loss: 26.3923 - mean_absolute_error: 3.9955 - val_loss: 6.7438 - val_mean_absolute_error: 1.6880\n",
      "Epoch 88/200\n",
      "5639/5639 [==============================] - 3s 585us/sample - loss: 26.1969 - mean_absolute_error: 3.9776 - val_loss: 6.8756 - val_mean_absolute_error: 1.7092\n",
      "Epoch 89/200\n",
      "5639/5639 [==============================] - 3s 582us/sample - loss: 26.1264 - mean_absolute_error: 3.9808 - val_loss: 6.8525 - val_mean_absolute_error: 1.7026\n",
      "Epoch 90/200\n",
      "5639/5639 [==============================] - 3s 586us/sample - loss: 26.1193 - mean_absolute_error: 3.9725 - val_loss: 7.1987 - val_mean_absolute_error: 1.7752\n",
      "Epoch 91/200\n",
      "5639/5639 [==============================] - 3s 579us/sample - loss: 26.3719 - mean_absolute_error: 3.9964 - val_loss: 6.9028 - val_mean_absolute_error: 1.7175\n",
      "Epoch 92/200\n",
      "5639/5639 [==============================] - 3s 585us/sample - loss: 25.9680 - mean_absolute_error: 3.9686 - val_loss: 6.9380 - val_mean_absolute_error: 1.7263\n",
      "Epoch 93/200\n"
     ]
    },
    {
     "name": "stdout",
     "output_type": "stream",
     "text": [
      "5639/5639 [==============================] - 3s 581us/sample - loss: 25.8855 - mean_absolute_error: 3.9587 - val_loss: 7.2831 - val_mean_absolute_error: 1.8084\n",
      "Epoch 94/200\n",
      "5639/5639 [==============================] - 3s 578us/sample - loss: 25.8495 - mean_absolute_error: 3.9536 - val_loss: 6.7977 - val_mean_absolute_error: 1.6945\n",
      "Epoch 95/200\n",
      "5639/5639 [==============================] - 3s 578us/sample - loss: 25.3954 - mean_absolute_error: 3.9210 - val_loss: 6.7967 - val_mean_absolute_error: 1.7082\n",
      "Epoch 96/200\n",
      "5639/5639 [==============================] - 3s 575us/sample - loss: 25.5518 - mean_absolute_error: 3.9327 - val_loss: 6.6735 - val_mean_absolute_error: 1.6699\n",
      "Epoch 97/200\n",
      "5639/5639 [==============================] - 3s 584us/sample - loss: 25.5875 - mean_absolute_error: 3.9298 - val_loss: 6.8206 - val_mean_absolute_error: 1.6990\n",
      "Epoch 98/200\n",
      "5639/5639 [==============================] - 3s 577us/sample - loss: 25.1964 - mean_absolute_error: 3.9018 - val_loss: 6.6291 - val_mean_absolute_error: 1.6602\n",
      "Epoch 99/200\n",
      "5639/5639 [==============================] - 3s 576us/sample - loss: 25.1475 - mean_absolute_error: 3.9073 - val_loss: 6.7379 - val_mean_absolute_error: 1.6949\n",
      "Epoch 100/200\n",
      "5639/5639 [==============================] - 3s 577us/sample - loss: 24.8955 - mean_absolute_error: 3.8842 - val_loss: 7.7847 - val_mean_absolute_error: 1.8990\n",
      "Epoch 101/200\n",
      "5639/5639 [==============================] - 3s 581us/sample - loss: 24.9071 - mean_absolute_error: 3.8789 - val_loss: 6.8775 - val_mean_absolute_error: 1.7143\n",
      "Epoch 102/200\n",
      "5639/5639 [==============================] - 3s 579us/sample - loss: 24.8021 - mean_absolute_error: 3.8723 - val_loss: 7.3677 - val_mean_absolute_error: 1.8197\n",
      "Epoch 103/200\n",
      "5639/5639 [==============================] - 3s 580us/sample - loss: 24.6718 - mean_absolute_error: 3.8683 - val_loss: 6.8367 - val_mean_absolute_error: 1.7169\n",
      "Epoch 104/200\n",
      "5639/5639 [==============================] - 3s 578us/sample - loss: 24.6568 - mean_absolute_error: 3.8597 - val_loss: 6.8185 - val_mean_absolute_error: 1.7133\n",
      "Epoch 105/200\n",
      "5639/5639 [==============================] - 3s 577us/sample - loss: 24.3087 - mean_absolute_error: 3.8372 - val_loss: 7.3507 - val_mean_absolute_error: 1.8291\n",
      "Epoch 106/200\n",
      "5639/5639 [==============================] - 3s 580us/sample - loss: 24.1790 - mean_absolute_error: 3.8266 - val_loss: 7.0317 - val_mean_absolute_error: 1.7533\n",
      "Epoch 107/200\n",
      "5639/5639 [==============================] - 3s 581us/sample - loss: 24.2599 - mean_absolute_error: 3.8252 - val_loss: 6.4771 - val_mean_absolute_error: 1.6564\n",
      "Epoch 108/200\n",
      "5639/5639 [==============================] - 3s 580us/sample - loss: 24.3181 - mean_absolute_error: 3.8344 - val_loss: 6.6776 - val_mean_absolute_error: 1.6857\n",
      "Epoch 109/200\n",
      "5639/5639 [==============================] - 3s 599us/sample - loss: 24.0839 - mean_absolute_error: 3.8143 - val_loss: 6.6289 - val_mean_absolute_error: 1.6762\n",
      "Epoch 110/200\n",
      "5639/5639 [==============================] - 3s 608us/sample - loss: 23.9859 - mean_absolute_error: 3.8114 - val_loss: 6.7551 - val_mean_absolute_error: 1.7022\n",
      "Epoch 111/200\n",
      "5639/5639 [==============================] - 3s 579us/sample - loss: 23.7667 - mean_absolute_error: 3.7861 - val_loss: 7.0423 - val_mean_absolute_error: 1.7705\n",
      "Epoch 112/200\n",
      "5639/5639 [==============================] - 3s 581us/sample - loss: 23.5970 - mean_absolute_error: 3.7772 - val_loss: 7.5317 - val_mean_absolute_error: 1.8606\n",
      "Epoch 113/200\n",
      "5639/5639 [==============================] - 3s 584us/sample - loss: 23.5897 - mean_absolute_error: 3.7726 - val_loss: 8.0414 - val_mean_absolute_error: 1.9575\n",
      "Epoch 114/200\n",
      "5639/5639 [==============================] - 3s 583us/sample - loss: 23.6611 - mean_absolute_error: 3.7849 - val_loss: 6.6689 - val_mean_absolute_error: 1.6772\n",
      "Epoch 115/200\n",
      "5639/5639 [==============================] - 3s 578us/sample - loss: 23.4482 - mean_absolute_error: 3.7670 - val_loss: 6.7442 - val_mean_absolute_error: 1.7023\n",
      "Epoch 116/200\n",
      "5639/5639 [==============================] - 3s 580us/sample - loss: 23.2569 - mean_absolute_error: 3.7462 - val_loss: 6.6876 - val_mean_absolute_error: 1.7050\n",
      "Epoch 117/200\n",
      "5639/5639 [==============================] - 3s 584us/sample - loss: 23.2240 - mean_absolute_error: 3.7482 - val_loss: 7.2456 - val_mean_absolute_error: 1.8222\n",
      "Epoch 118/200\n",
      "5639/5639 [==============================] - 3s 584us/sample - loss: 23.2224 - mean_absolute_error: 3.7439 - val_loss: 7.7372 - val_mean_absolute_error: 1.8899\n",
      "Epoch 119/200\n",
      "5639/5639 [==============================] - 3s 595us/sample - loss: 23.0985 - mean_absolute_error: 3.7364 - val_loss: 6.5769 - val_mean_absolute_error: 1.6766\n",
      "Epoch 120/200\n",
      "5639/5639 [==============================] - 3s 617us/sample - loss: 22.8405 - mean_absolute_error: 3.7146 - val_loss: 6.2935 - val_mean_absolute_error: 1.6193\n",
      "Epoch 121/200\n",
      "5639/5639 [==============================] - 4s 621us/sample - loss: 22.7144 - mean_absolute_error: 3.7050 - val_loss: 6.4818 - val_mean_absolute_error: 1.6702\n",
      "Epoch 122/200\n",
      "5639/5639 [==============================] - 4s 646us/sample - loss: 22.8384 - mean_absolute_error: 3.7148 - val_loss: 7.0632 - val_mean_absolute_error: 1.7773\n",
      "Epoch 123/200\n",
      "5639/5639 [==============================] - 3s 608us/sample - loss: 22.6107 - mean_absolute_error: 3.6962 - val_loss: 6.3856 - val_mean_absolute_error: 1.6503\n",
      "Epoch 124/200\n",
      "5639/5639 [==============================] - 3s 578us/sample - loss: 22.4051 - mean_absolute_error: 3.6784 - val_loss: 6.6966 - val_mean_absolute_error: 1.7270\n",
      "Epoch 125/200\n",
      "5639/5639 [==============================] - 3s 569us/sample - loss: 22.5981 - mean_absolute_error: 3.6970 - val_loss: 6.9293 - val_mean_absolute_error: 1.7599\n",
      "Epoch 126/200\n",
      "5639/5639 [==============================] - 3s 565us/sample - loss: 22.2334 - mean_absolute_error: 3.6666 - val_loss: 6.4286 - val_mean_absolute_error: 1.6672\n",
      "Epoch 127/200\n",
      "5639/5639 [==============================] - 3s 569us/sample - loss: 22.1786 - mean_absolute_error: 3.6627 - val_loss: 6.4755 - val_mean_absolute_error: 1.6736\n",
      "Epoch 128/200\n",
      "5639/5639 [==============================] - 3s 598us/sample - loss: 22.0185 - mean_absolute_error: 3.6494 - val_loss: 5.8363 - val_mean_absolute_error: 1.5451\n",
      "Epoch 129/200\n",
      "5639/5639 [==============================] - 3s 571us/sample - loss: 22.0621 - mean_absolute_error: 3.6473 - val_loss: 5.7987 - val_mean_absolute_error: 1.5397\n",
      "Epoch 130/200\n",
      "5639/5639 [==============================] - 3s 575us/sample - loss: 21.8478 - mean_absolute_error: 3.6346 - val_loss: 6.3387 - val_mean_absolute_error: 1.6476\n",
      "Epoch 131/200\n",
      "5639/5639 [==============================] - 3s 572us/sample - loss: 21.8625 - mean_absolute_error: 3.6334 - val_loss: 6.6881 - val_mean_absolute_error: 1.7167\n",
      "Epoch 132/200\n",
      "5639/5639 [==============================] - 3s 568us/sample - loss: 21.8028 - mean_absolute_error: 3.6278 - val_loss: 6.5614 - val_mean_absolute_error: 1.6986\n",
      "Epoch 133/200\n",
      "5639/5639 [==============================] - 3s 572us/sample - loss: 21.4987 - mean_absolute_error: 3.6001 - val_loss: 6.3187 - val_mean_absolute_error: 1.6426\n",
      "Epoch 134/200\n",
      "5639/5639 [==============================] - 3s 569us/sample - loss: 21.5369 - mean_absolute_error: 3.5991 - val_loss: 6.6259 - val_mean_absolute_error: 1.7099\n",
      "Epoch 135/200\n",
      "5639/5639 [==============================] - 3s 568us/sample - loss: 21.5093 - mean_absolute_error: 3.6066 - val_loss: 7.0310 - val_mean_absolute_error: 1.7687\n",
      "Epoch 136/200\n",
      "5639/5639 [==============================] - 3s 569us/sample - loss: 21.5124 - mean_absolute_error: 3.6009 - val_loss: 6.2784 - val_mean_absolute_error: 1.6294\n",
      "Epoch 137/200\n",
      "5639/5639 [==============================] - 3s 567us/sample - loss: 21.4379 - mean_absolute_error: 3.5967 - val_loss: 6.1978 - val_mean_absolute_error: 1.6121\n",
      "Epoch 138/200\n",
      "5639/5639 [==============================] - 3s 574us/sample - loss: 21.1830 - mean_absolute_error: 3.5785 - val_loss: 6.1424 - val_mean_absolute_error: 1.6183\n",
      "Epoch 139/200\n",
      "5639/5639 [==============================] - 3s 568us/sample - loss: 21.0166 - mean_absolute_error: 3.5597 - val_loss: 6.0916 - val_mean_absolute_error: 1.6015\n",
      "Epoch 140/200\n"
     ]
    },
    {
     "name": "stdout",
     "output_type": "stream",
     "text": [
      "5639/5639 [==============================] - 3s 564us/sample - loss: 20.9178 - mean_absolute_error: 3.5508 - val_loss: 6.7286 - val_mean_absolute_error: 1.7435\n",
      "Epoch 141/200\n",
      "5639/5639 [==============================] - 3s 579us/sample - loss: 21.0770 - mean_absolute_error: 3.5646 - val_loss: 6.5226 - val_mean_absolute_error: 1.7076\n",
      "Epoch 142/200\n",
      "5639/5639 [==============================] - 3s 574us/sample - loss: 20.8324 - mean_absolute_error: 3.5474 - val_loss: 6.3916 - val_mean_absolute_error: 1.6774\n",
      "Epoch 143/200\n",
      "5639/5639 [==============================] - 3s 567us/sample - loss: 20.7317 - mean_absolute_error: 3.5428 - val_loss: 5.6740 - val_mean_absolute_error: 1.5183\n",
      "Epoch 144/200\n",
      "5639/5639 [==============================] - 3s 567us/sample - loss: 20.6590 - mean_absolute_error: 3.5315 - val_loss: 6.2332 - val_mean_absolute_error: 1.6451\n",
      "Epoch 145/200\n",
      "5639/5639 [==============================] - 3s 565us/sample - loss: 20.6146 - mean_absolute_error: 3.5281 - val_loss: 6.3521 - val_mean_absolute_error: 1.6648\n",
      "Epoch 146/200\n",
      "5639/5639 [==============================] - 3s 565us/sample - loss: 20.6080 - mean_absolute_error: 3.5270 - val_loss: 5.5127 - val_mean_absolute_error: 1.4930\n",
      "Epoch 147/200\n",
      "5639/5639 [==============================] - 3s 566us/sample - loss: 20.4598 - mean_absolute_error: 3.5126 - val_loss: 6.0073 - val_mean_absolute_error: 1.5970\n",
      "Epoch 148/200\n",
      "5639/5639 [==============================] - 3s 564us/sample - loss: 20.1586 - mean_absolute_error: 3.4895 - val_loss: 5.8001 - val_mean_absolute_error: 1.5578\n",
      "Epoch 149/200\n",
      "5639/5639 [==============================] - 3s 565us/sample - loss: 20.2690 - mean_absolute_error: 3.4958 - val_loss: 6.1718 - val_mean_absolute_error: 1.6311\n",
      "Epoch 150/200\n",
      "5639/5639 [==============================] - 3s 565us/sample - loss: 20.2536 - mean_absolute_error: 3.4954 - val_loss: 5.5826 - val_mean_absolute_error: 1.5149\n",
      "Epoch 151/200\n",
      "5639/5639 [==============================] - 3s 561us/sample - loss: 20.1031 - mean_absolute_error: 3.4785 - val_loss: 5.7926 - val_mean_absolute_error: 1.5566\n",
      "Epoch 152/200\n",
      "5639/5639 [==============================] - 3s 566us/sample - loss: 19.9499 - mean_absolute_error: 3.4695 - val_loss: 5.8094 - val_mean_absolute_error: 1.5648\n",
      "Epoch 153/200\n",
      "5639/5639 [==============================] - 3s 571us/sample - loss: 20.0245 - mean_absolute_error: 3.4779 - val_loss: 6.2297 - val_mean_absolute_error: 1.6456\n",
      "Epoch 154/200\n",
      "5639/5639 [==============================] - 3s 567us/sample - loss: 19.8606 - mean_absolute_error: 3.4678 - val_loss: 5.3597 - val_mean_absolute_error: 1.4698\n",
      "Epoch 155/200\n",
      "5639/5639 [==============================] - 3s 566us/sample - loss: 19.7761 - mean_absolute_error: 3.4539 - val_loss: 5.8126 - val_mean_absolute_error: 1.5660\n",
      "Epoch 156/200\n",
      "5639/5639 [==============================] - 3s 567us/sample - loss: 19.6097 - mean_absolute_error: 3.4452 - val_loss: 6.2011 - val_mean_absolute_error: 1.6458\n",
      "Epoch 157/200\n",
      "5639/5639 [==============================] - 3s 568us/sample - loss: 19.6393 - mean_absolute_error: 3.4407 - val_loss: 7.2067 - val_mean_absolute_error: 1.8358\n",
      "Epoch 158/200\n",
      "5639/5639 [==============================] - 3s 565us/sample - loss: 19.5372 - mean_absolute_error: 3.4313 - val_loss: 6.1446 - val_mean_absolute_error: 1.6335\n",
      "Epoch 159/200\n",
      "5639/5639 [==============================] - 3s 563us/sample - loss: 19.5200 - mean_absolute_error: 3.4341 - val_loss: 6.1842 - val_mean_absolute_error: 1.6590\n",
      "Epoch 160/200\n",
      "5639/5639 [==============================] - 3s 567us/sample - loss: 19.3081 - mean_absolute_error: 3.4167 - val_loss: 6.1296 - val_mean_absolute_error: 1.6512\n",
      "Epoch 161/200\n",
      "5639/5639 [==============================] - 3s 573us/sample - loss: 19.3097 - mean_absolute_error: 3.4108 - val_loss: 5.4471 - val_mean_absolute_error: 1.4963\n",
      "Epoch 162/200\n",
      "5639/5639 [==============================] - 3s 567us/sample - loss: 19.2952 - mean_absolute_error: 3.4125 - val_loss: 10.2589 - val_mean_absolute_error: 2.3107\n",
      "Epoch 163/200\n",
      "5639/5639 [==============================] - 3s 568us/sample - loss: 19.4672 - mean_absolute_error: 3.4270 - val_loss: 7.2410 - val_mean_absolute_error: 1.8682\n",
      "Epoch 164/200\n",
      "5639/5639 [==============================] - 3s 569us/sample - loss: 18.9580 - mean_absolute_error: 3.3828 - val_loss: 6.3223 - val_mean_absolute_error: 1.6731\n",
      "Epoch 165/200\n",
      "5639/5639 [==============================] - 3s 565us/sample - loss: 18.9800 - mean_absolute_error: 3.3838 - val_loss: 5.7709 - val_mean_absolute_error: 1.5609\n",
      "Epoch 166/200\n",
      "5639/5639 [==============================] - 3s 575us/sample - loss: 18.8883 - mean_absolute_error: 3.3715 - val_loss: 6.0484 - val_mean_absolute_error: 1.6219\n",
      "Epoch 167/200\n",
      "5639/5639 [==============================] - 3s 572us/sample - loss: 18.9691 - mean_absolute_error: 3.3829 - val_loss: 6.3045 - val_mean_absolute_error: 1.6851\n",
      "Epoch 168/200\n",
      "5639/5639 [==============================] - 3s 573us/sample - loss: 18.7340 - mean_absolute_error: 3.3617 - val_loss: 5.3337 - val_mean_absolute_error: 1.4743\n",
      "Epoch 169/200\n",
      "5639/5639 [==============================] - 3s 571us/sample - loss: 18.6634 - mean_absolute_error: 3.3567 - val_loss: 6.7120 - val_mean_absolute_error: 1.7440\n",
      "Epoch 170/200\n",
      "5639/5639 [==============================] - 3s 566us/sample - loss: 18.6161 - mean_absolute_error: 3.3451 - val_loss: 5.3706 - val_mean_absolute_error: 1.4941\n",
      "Epoch 171/200\n",
      "5639/5639 [==============================] - 3s 572us/sample - loss: 18.4759 - mean_absolute_error: 3.3334 - val_loss: 6.1693 - val_mean_absolute_error: 1.6641\n",
      "Epoch 172/200\n",
      "5639/5639 [==============================] - 3s 571us/sample - loss: 18.4551 - mean_absolute_error: 3.3327 - val_loss: 6.0139 - val_mean_absolute_error: 1.6255\n",
      "Epoch 173/200\n",
      "5639/5639 [==============================] - 3s 566us/sample - loss: 18.2022 - mean_absolute_error: 3.3158 - val_loss: 6.2943 - val_mean_absolute_error: 1.6881\n",
      "Epoch 174/200\n",
      "5639/5639 [==============================] - 3s 571us/sample - loss: 18.3286 - mean_absolute_error: 3.3199 - val_loss: 5.3285 - val_mean_absolute_error: 1.4791\n",
      "Epoch 175/200\n",
      "5639/5639 [==============================] - 3s 580us/sample - loss: 18.0742 - mean_absolute_error: 3.3034 - val_loss: 5.5916 - val_mean_absolute_error: 1.5369\n",
      "Epoch 176/200\n",
      "5639/5639 [==============================] - 3s 572us/sample - loss: 18.0770 - mean_absolute_error: 3.3027 - val_loss: 6.8469 - val_mean_absolute_error: 1.7911\n",
      "Epoch 177/200\n",
      "5639/5639 [==============================] - 3s 571us/sample - loss: 18.1145 - mean_absolute_error: 3.3083 - val_loss: 5.7273 - val_mean_absolute_error: 1.5714\n",
      "Epoch 178/200\n",
      "5639/5639 [==============================] - 3s 568us/sample - loss: 18.0707 - mean_absolute_error: 3.2960 - val_loss: 5.5455 - val_mean_absolute_error: 1.5250\n",
      "Epoch 179/200\n",
      "5639/5639 [==============================] - 3s 568us/sample - loss: 17.8682 - mean_absolute_error: 3.2831 - val_loss: 6.0476 - val_mean_absolute_error: 1.6350\n",
      "Epoch 180/200\n",
      "5639/5639 [==============================] - 3s 571us/sample - loss: 17.7290 - mean_absolute_error: 3.2706 - val_loss: 6.1400 - val_mean_absolute_error: 1.6555\n",
      "Epoch 181/200\n",
      "5639/5639 [==============================] - 3s 567us/sample - loss: 17.7133 - mean_absolute_error: 3.2667 - val_loss: 5.5228 - val_mean_absolute_error: 1.5316\n",
      "Epoch 182/200\n",
      "5639/5639 [==============================] - 3s 567us/sample - loss: 17.6260 - mean_absolute_error: 3.2595 - val_loss: 5.0634 - val_mean_absolute_error: 1.4308\n",
      "Epoch 183/200\n",
      "5639/5639 [==============================] - 3s 569us/sample - loss: 17.5158 - mean_absolute_error: 3.2479 - val_loss: 5.5155 - val_mean_absolute_error: 1.5180\n",
      "Epoch 184/200\n",
      "5639/5639 [==============================] - 3s 570us/sample - loss: 17.5821 - mean_absolute_error: 3.2561 - val_loss: 6.3899 - val_mean_absolute_error: 1.7139\n",
      "Epoch 185/200\n",
      "5639/5639 [==============================] - 3s 566us/sample - loss: 17.6570 - mean_absolute_error: 3.2571 - val_loss: 6.4240 - val_mean_absolute_error: 1.7019\n",
      "Epoch 186/200\n",
      "5639/5639 [==============================] - 3s 567us/sample - loss: 17.3436 - mean_absolute_error: 3.2355 - val_loss: 5.4112 - val_mean_absolute_error: 1.5103\n",
      "Epoch 187/200\n"
     ]
    },
    {
     "name": "stdout",
     "output_type": "stream",
     "text": [
      "5639/5639 [==============================] - 3s 562us/sample - loss: 17.3450 - mean_absolute_error: 3.2303 - val_loss: 6.1013 - val_mean_absolute_error: 1.6576\n",
      "Epoch 188/200\n",
      "5639/5639 [==============================] - 3s 564us/sample - loss: 17.3271 - mean_absolute_error: 3.2295 - val_loss: 5.5753 - val_mean_absolute_error: 1.5439\n",
      "Epoch 189/200\n",
      "5639/5639 [==============================] - 3s 564us/sample - loss: 17.2924 - mean_absolute_error: 3.2284 - val_loss: 6.4971 - val_mean_absolute_error: 1.7466\n",
      "Epoch 190/200\n",
      "5639/5639 [==============================] - 3s 562us/sample - loss: 17.1320 - mean_absolute_error: 3.2170 - val_loss: 5.6310 - val_mean_absolute_error: 1.5558\n",
      "Epoch 191/200\n",
      "5639/5639 [==============================] - 3s 565us/sample - loss: 17.0480 - mean_absolute_error: 3.2100 - val_loss: 7.4647 - val_mean_absolute_error: 1.9114\n",
      "Epoch 192/200\n",
      "5639/5639 [==============================] - 3s 563us/sample - loss: 17.1605 - mean_absolute_error: 3.2139 - val_loss: 6.3247 - val_mean_absolute_error: 1.7124\n",
      "Epoch 193/200\n",
      "5639/5639 [==============================] - 3s 564us/sample - loss: 16.8538 - mean_absolute_error: 3.1855 - val_loss: 5.9968 - val_mean_absolute_error: 1.6369\n",
      "Epoch 194/200\n",
      "5639/5639 [==============================] - 3s 564us/sample - loss: 16.8559 - mean_absolute_error: 3.1889 - val_loss: 5.2594 - val_mean_absolute_error: 1.4754\n",
      "Epoch 195/200\n",
      "5639/5639 [==============================] - 3s 563us/sample - loss: 16.8435 - mean_absolute_error: 3.1854 - val_loss: 5.7339 - val_mean_absolute_error: 1.5772\n",
      "Epoch 196/200\n",
      "5639/5639 [==============================] - 4s 625us/sample - loss: 16.7596 - mean_absolute_error: 3.1772 - val_loss: 5.7901 - val_mean_absolute_error: 1.5915\n",
      "Epoch 197/200\n",
      "5639/5639 [==============================] - 3s 572us/sample - loss: 16.6026 - mean_absolute_error: 3.1621 - val_loss: 6.0858 - val_mean_absolute_error: 1.6694\n",
      "Epoch 198/200\n",
      "5639/5639 [==============================] - 3s 611us/sample - loss: 16.6426 - mean_absolute_error: 3.1692 - val_loss: 6.6534 - val_mean_absolute_error: 1.7782\n",
      "Epoch 199/200\n",
      "5639/5639 [==============================] - 4s 687us/sample - loss: 16.3698 - mean_absolute_error: 3.1423 - val_loss: 5.2193 - val_mean_absolute_error: 1.4778\n",
      "Epoch 200/200\n",
      "5639/5639 [==============================] - 4s 669us/sample - loss: 16.5335 - mean_absolute_error: 3.1545 - val_loss: 7.0374 - val_mean_absolute_error: 1.8658\n"
     ]
    },
    {
     "data": {
      "text/plain": [
       "<tensorflow.python.keras.callbacks.History at 0x7f74d7310be0>"
      ]
     },
     "execution_count": 14,
     "metadata": {},
     "output_type": "execute_result"
    }
   ],
   "source": [
    "model.fit(X_train,y_train,epochs = 200,batch_size = 256,validation_split = 0.2)"
   ]
  },
  {
   "cell_type": "markdown",
   "metadata": {
    "_uuid": "cf7e21d1b2e1282636b8bca23d1297ec43642179"
   },
   "source": [
    "Now lets prepare our testing data"
   ]
  },
  {
   "cell_type": "code",
   "execution_count": null,
   "metadata": {
    "_uuid": "587e6f2a158cccc7b8de4df99885c9878c6a5683"
   },
   "outputs": [],
   "source": [
    "#preparing test data\n",
    "timag = []\n",
    "for i in range(0,1783):\n",
    "    timg = test_data['Image'][i].split(' ')\n",
    "    timg = ['0' if x == '' else x for x in timg]\n",
    "    \n",
    "    timag.append(timg)"
   ]
  },
  {
   "cell_type": "markdown",
   "metadata": {
    "_uuid": "88db8ebf9a5e18eb120ed1808ec361ff53bdc7be"
   },
   "source": [
    "Reshaping and converting "
   ]
  },
  {
   "cell_type": "code",
   "execution_count": null,
   "metadata": {
    "_uuid": "1203ed3b00d70e52de0ac457facfb774a11f5816"
   },
   "outputs": [],
   "source": [
    "timage_list = np.array(timag,dtype = 'float')\n",
    "X_test = timage_list.reshape(-1,96,96,1) "
   ]
  },
  {
   "cell_type": "markdown",
   "metadata": {
    "_uuid": "d6733e0e2d3fa1384f84bdfaa143b6278e07e736"
   },
   "source": [
    "Lets see first image in out test data"
   ]
  },
  {
   "cell_type": "code",
   "execution_count": null,
   "metadata": {
    "_uuid": "bd3f2367733d37be74f26a8a53a8b33808eaf64b"
   },
   "outputs": [],
   "source": [
    "plt.imshow(X_test[0].reshape(96,96),cmap = 'gray')\n",
    "plt.show()"
   ]
  },
  {
   "cell_type": "markdown",
   "metadata": {
    "_uuid": "c41bd777b9055ed782a475d88f9e7c0ac7d12a2b"
   },
   "source": [
    "Lets predict our results"
   ]
  },
  {
   "cell_type": "code",
   "execution_count": null,
   "metadata": {
    "_uuid": "ecaf24956f805de32614c5476528102bdf56b329"
   },
   "outputs": [],
   "source": [
    "pred = model.predict(X_test)"
   ]
  },
  {
   "cell_type": "markdown",
   "metadata": {
    "_uuid": "a64f6787a940d21dfa976511f8880254bf14a8ab"
   },
   "source": [
    "Now the last step is the create our submission file keeping in the mind required format.\n",
    "There should be two columns :- RowId and Location\n",
    "Location column values should be filled according the lookup table provided ( IdLookupTable.csv)\n"
   ]
  },
  {
   "cell_type": "code",
   "execution_count": null,
   "metadata": {
    "_uuid": "fff11927e693209f8f8d5029dffc74a53e1e8821"
   },
   "outputs": [],
   "source": [
    "lookid_list = list(lookid_data['FeatureName'])\n",
    "imageID = list(lookid_data['ImageId']-1)\n",
    "pre_list = list(pred)"
   ]
  },
  {
   "cell_type": "code",
   "execution_count": null,
   "metadata": {
    "_uuid": "3d3c36d9375d4b81b4dd33cd1cc645f17b32023b"
   },
   "outputs": [],
   "source": [
    "rowid = lookid_data['RowId']\n",
    "rowid=list(rowid)"
   ]
  },
  {
   "cell_type": "code",
   "execution_count": null,
   "metadata": {
    "_uuid": "de4123ef594738b0e23b485ba165f9ddc03b01de"
   },
   "outputs": [],
   "source": [
    "feature = []\n",
    "for f in list(lookid_data['FeatureName']):\n",
    "    feature.append(lookid_list.index(f))"
   ]
  },
  {
   "cell_type": "code",
   "execution_count": null,
   "metadata": {
    "_uuid": "ae81c7411bedde81afbc315fbabaaf9f3223cff5"
   },
   "outputs": [],
   "source": [
    "preded = []\n",
    "for x,y in zip(imageID,feature):\n",
    "    preded.append(pre_list[x][y])"
   ]
  },
  {
   "cell_type": "code",
   "execution_count": null,
   "metadata": {
    "_uuid": "a1949844f3012f5944a2159eeb8547d5b9434b4f"
   },
   "outputs": [],
   "source": [
    "rowid = pd.Series(rowid,name = 'RowId')"
   ]
  },
  {
   "cell_type": "code",
   "execution_count": null,
   "metadata": {
    "_uuid": "bdc486586f354720bab48c2bbdb92287066cd977"
   },
   "outputs": [],
   "source": [
    "loc = pd.Series(preded,name = 'Location')"
   ]
  },
  {
   "cell_type": "code",
   "execution_count": null,
   "metadata": {
    "_uuid": "fb144e2fa32cad9a8b334a7730a75bfed8c7ac0f"
   },
   "outputs": [],
   "source": [
    "submission = pd.concat([rowid,loc],axis = 1)\n"
   ]
  },
  {
   "cell_type": "code",
   "execution_count": null,
   "metadata": {
    "_uuid": "dc121456dbdb88e49605b255492262a77cc2ff75"
   },
   "outputs": [],
   "source": [
    "submission.to_csv('face_key_detection_submission.csv',index = False)"
   ]
  },
  {
   "cell_type": "code",
   "execution_count": null,
   "metadata": {},
   "outputs": [],
   "source": []
  }
 ],
 "metadata": {
  "kernelspec": {
   "display_name": "Python 3",
   "language": "python",
   "name": "python3"
  },
  "language_info": {
   "codemirror_mode": {
    "name": "ipython",
    "version": 3
   },
   "file_extension": ".py",
   "mimetype": "text/x-python",
   "name": "python",
   "nbconvert_exporter": "python",
   "pygments_lexer": "ipython3",
   "version": "3.7.3"
  }
 },
 "nbformat": 4,
 "nbformat_minor": 1
}
