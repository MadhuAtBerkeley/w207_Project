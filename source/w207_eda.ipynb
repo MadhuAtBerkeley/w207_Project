{
 "cells": [
  {
   "cell_type": "code",
   "execution_count": 8,
   "metadata": {},
   "outputs": [],
   "source": [
    "import numpy as np\n",
    "import matplotlib.pyplot as plt\n",
    "import seaborn as sns\n",
    "import pandas as pd\n",
    "from scipy import stats\n",
    "from sklearn.impute import KNNImputer\n",
    "import os, gc\n",
    "\n",
    "pd.set_option('display.max_columns', None)\n",
    "from IPython.core.interactiveshell import InteractiveShell\n",
    "InteractiveShell.ast_node_interactivity = \"all\""
   ]
  },
  {
   "cell_type": "code",
   "execution_count": 2,
   "metadata": {},
   "outputs": [],
   "source": [
    "train_file = '../input/training/training.csv'\n",
    "test_file = '../input/test/test.csv'\n",
    "train_data = pd.read_csv(train_file)  \n",
    "test_data = pd.read_csv(test_file)"
   ]
  },
  {
   "cell_type": "markdown",
   "metadata": {},
   "source": [
    "## EDA  \n",
    "1. [ ] Explore imputation strategies\n",
    "2. [ ] Explore outlier correction strategies\n",
    "3. [ ] Add noise via rotation, flipped image, blurring, etc.\n",
    "4. [ ] Update to RMSE"
   ]
  },
  {
   "cell_type": "markdown",
   "metadata": {},
   "source": [
    "## Explore NA\n",
    "Based on the below analysis, distributions are fairly normal with some outliers, and mean and median are fairly similar."
   ]
  },
  {
   "cell_type": "code",
   "execution_count": 36,
   "metadata": {},
   "outputs": [
    {
     "name": "stdout",
     "output_type": "stream",
     "text": [
      "\n",
      "Number of columns with any NA value:\n"
     ]
    },
    {
     "data": {
      "text/plain": [
       "True     28\n",
       "False     3\n",
       "dtype: int64"
      ]
     },
     "execution_count": 36,
     "metadata": {},
     "output_type": "execute_result"
    },
    {
     "name": "stdout",
     "output_type": "stream",
     "text": [
      "\n",
      "Test skew of each distribution:\n"
     ]
    },
    {
     "data": {
      "text/plain": [
       "[('left_eye_center_x', 'Not normal'),\n",
       " ('left_eye_center_y', 'Not normal'),\n",
       " ('right_eye_center_x', 'Not normal'),\n",
       " ('right_eye_center_y', 'Not normal'),\n",
       " ('left_eye_inner_corner_x', 'Not normal'),\n",
       " ('left_eye_inner_corner_y', 'Not normal'),\n",
       " ('left_eye_outer_corner_x', 'Not normal'),\n",
       " ('left_eye_outer_corner_y', 'Not normal'),\n",
       " ('right_eye_inner_corner_x', 'Not normal'),\n",
       " ('right_eye_inner_corner_y', 'Not normal'),\n",
       " ('right_eye_outer_corner_x', 'Not normal'),\n",
       " ('right_eye_outer_corner_y', 'Not normal'),\n",
       " ('left_eyebrow_inner_end_x', 'Not normal'),\n",
       " ('left_eyebrow_inner_end_y', 'Not normal'),\n",
       " ('left_eyebrow_outer_end_x', 'Not normal'),\n",
       " ('left_eyebrow_outer_end_y', 'Not normal'),\n",
       " ('right_eyebrow_inner_end_x', 'Not normal'),\n",
       " ('right_eyebrow_inner_end_y', 'Not normal'),\n",
       " ('right_eyebrow_outer_end_x', 'Not normal'),\n",
       " ('right_eyebrow_outer_end_y', 'Not normal'),\n",
       " ('mouth_left_corner_x', 'Not normal'),\n",
       " ('mouth_left_corner_y', 'Not normal'),\n",
       " ('mouth_right_corner_x', 'Normal'),\n",
       " ('mouth_right_corner_y', 'Not normal'),\n",
       " ('mouth_center_top_lip_x', 'Not normal'),\n",
       " ('mouth_center_top_lip_y', 'Not normal'),\n",
       " ('mouth_center_bottom_lip_x', 'Not normal'),\n",
       " ('mouth_center_bottom_lip_y', 'Not normal')]"
      ]
     },
     "execution_count": 36,
     "metadata": {},
     "output_type": "execute_result"
    },
    {
     "data": {
      "text/html": [
       "<div>\n",
       "<style scoped>\n",
       "    .dataframe tbody tr th:only-of-type {\n",
       "        vertical-align: middle;\n",
       "    }\n",
       "\n",
       "    .dataframe tbody tr th {\n",
       "        vertical-align: top;\n",
       "    }\n",
       "\n",
       "    .dataframe thead th {\n",
       "        text-align: right;\n",
       "    }\n",
       "</style>\n",
       "<table border=\"1\" class=\"dataframe\">\n",
       "  <thead>\n",
       "    <tr style=\"text-align: right;\">\n",
       "      <th></th>\n",
       "      <th>left_eye_center_x</th>\n",
       "      <th>left_eye_center_y</th>\n",
       "      <th>right_eye_center_x</th>\n",
       "      <th>right_eye_center_y</th>\n",
       "      <th>left_eye_inner_corner_x</th>\n",
       "      <th>left_eye_inner_corner_y</th>\n",
       "      <th>left_eye_outer_corner_x</th>\n",
       "      <th>left_eye_outer_corner_y</th>\n",
       "      <th>right_eye_inner_corner_x</th>\n",
       "      <th>right_eye_inner_corner_y</th>\n",
       "      <th>right_eye_outer_corner_x</th>\n",
       "      <th>right_eye_outer_corner_y</th>\n",
       "      <th>left_eyebrow_inner_end_x</th>\n",
       "      <th>left_eyebrow_inner_end_y</th>\n",
       "      <th>left_eyebrow_outer_end_x</th>\n",
       "      <th>left_eyebrow_outer_end_y</th>\n",
       "      <th>right_eyebrow_inner_end_x</th>\n",
       "      <th>right_eyebrow_inner_end_y</th>\n",
       "      <th>right_eyebrow_outer_end_x</th>\n",
       "      <th>right_eyebrow_outer_end_y</th>\n",
       "      <th>nose_tip_x</th>\n",
       "      <th>nose_tip_y</th>\n",
       "      <th>mouth_left_corner_x</th>\n",
       "      <th>mouth_left_corner_y</th>\n",
       "      <th>mouth_right_corner_x</th>\n",
       "      <th>mouth_right_corner_y</th>\n",
       "      <th>mouth_center_top_lip_x</th>\n",
       "      <th>mouth_center_top_lip_y</th>\n",
       "      <th>mouth_center_bottom_lip_x</th>\n",
       "      <th>mouth_center_bottom_lip_y</th>\n",
       "    </tr>\n",
       "  </thead>\n",
       "  <tbody>\n",
       "    <tr>\n",
       "      <th>mean</th>\n",
       "      <td>66.359021</td>\n",
       "      <td>37.651234</td>\n",
       "      <td>30.306102</td>\n",
       "      <td>37.976943</td>\n",
       "      <td>59.159339</td>\n",
       "      <td>37.944752</td>\n",
       "      <td>73.330478</td>\n",
       "      <td>37.707008</td>\n",
       "      <td>36.652607</td>\n",
       "      <td>37.989902</td>\n",
       "      <td>22.384504</td>\n",
       "      <td>38.033495</td>\n",
       "      <td>56.068513</td>\n",
       "      <td>29.332678</td>\n",
       "      <td>79.482826</td>\n",
       "      <td>29.734861</td>\n",
       "      <td>39.322137</td>\n",
       "      <td>29.502998</td>\n",
       "      <td>15.871177</td>\n",
       "      <td>30.428166</td>\n",
       "      <td>48.374186</td>\n",
       "      <td>62.715884</td>\n",
       "      <td>63.285735</td>\n",
       "      <td>75.970714</td>\n",
       "      <td>32.900404</td>\n",
       "      <td>76.179768</td>\n",
       "      <td>47.975412</td>\n",
       "      <td>72.919443</td>\n",
       "      <td>48.569472</td>\n",
       "      <td>78.970146</td>\n",
       "    </tr>\n",
       "    <tr>\n",
       "      <th>50%</th>\n",
       "      <td>66.497566</td>\n",
       "      <td>37.528055</td>\n",
       "      <td>30.251378</td>\n",
       "      <td>37.813273</td>\n",
       "      <td>59.304615</td>\n",
       "      <td>37.878040</td>\n",
       "      <td>73.247824</td>\n",
       "      <td>37.639015</td>\n",
       "      <td>36.651562</td>\n",
       "      <td>37.944075</td>\n",
       "      <td>22.535954</td>\n",
       "      <td>37.867071</td>\n",
       "      <td>56.244975</td>\n",
       "      <td>29.528872</td>\n",
       "      <td>79.784229</td>\n",
       "      <td>29.773813</td>\n",
       "      <td>39.298848</td>\n",
       "      <td>29.569347</td>\n",
       "      <td>15.785709</td>\n",
       "      <td>30.320160</td>\n",
       "      <td>48.424713</td>\n",
       "      <td>63.451421</td>\n",
       "      <td>63.178286</td>\n",
       "      <td>75.778689</td>\n",
       "      <td>32.982305</td>\n",
       "      <td>76.000592</td>\n",
       "      <td>47.905490</td>\n",
       "      <td>72.605173</td>\n",
       "      <td>48.594978</td>\n",
       "      <td>78.696326</td>\n",
       "    </tr>\n",
       "  </tbody>\n",
       "</table>\n",
       "</div>"
      ],
      "text/plain": [
       "      left_eye_center_x  left_eye_center_y  right_eye_center_x  \\\n",
       "mean          66.359021          37.651234           30.306102   \n",
       "50%           66.497566          37.528055           30.251378   \n",
       "\n",
       "      right_eye_center_y  left_eye_inner_corner_x  left_eye_inner_corner_y  \\\n",
       "mean           37.976943                59.159339                37.944752   \n",
       "50%            37.813273                59.304615                37.878040   \n",
       "\n",
       "      left_eye_outer_corner_x  left_eye_outer_corner_y  \\\n",
       "mean                73.330478                37.707008   \n",
       "50%                 73.247824                37.639015   \n",
       "\n",
       "      right_eye_inner_corner_x  right_eye_inner_corner_y  \\\n",
       "mean                 36.652607                 37.989902   \n",
       "50%                  36.651562                 37.944075   \n",
       "\n",
       "      right_eye_outer_corner_x  right_eye_outer_corner_y  \\\n",
       "mean                 22.384504                 38.033495   \n",
       "50%                  22.535954                 37.867071   \n",
       "\n",
       "      left_eyebrow_inner_end_x  left_eyebrow_inner_end_y  \\\n",
       "mean                 56.068513                 29.332678   \n",
       "50%                  56.244975                 29.528872   \n",
       "\n",
       "      left_eyebrow_outer_end_x  left_eyebrow_outer_end_y  \\\n",
       "mean                 79.482826                 29.734861   \n",
       "50%                  79.784229                 29.773813   \n",
       "\n",
       "      right_eyebrow_inner_end_x  right_eyebrow_inner_end_y  \\\n",
       "mean                  39.322137                  29.502998   \n",
       "50%                   39.298848                  29.569347   \n",
       "\n",
       "      right_eyebrow_outer_end_x  right_eyebrow_outer_end_y  nose_tip_x  \\\n",
       "mean                  15.871177                  30.428166   48.374186   \n",
       "50%                   15.785709                  30.320160   48.424713   \n",
       "\n",
       "      nose_tip_y  mouth_left_corner_x  mouth_left_corner_y  \\\n",
       "mean   62.715884            63.285735            75.970714   \n",
       "50%    63.451421            63.178286            75.778689   \n",
       "\n",
       "      mouth_right_corner_x  mouth_right_corner_y  mouth_center_top_lip_x  \\\n",
       "mean             32.900404             76.179768               47.975412   \n",
       "50%              32.982305             76.000592               47.905490   \n",
       "\n",
       "      mouth_center_top_lip_y  mouth_center_bottom_lip_x  \\\n",
       "mean               72.919443                  48.569472   \n",
       "50%                72.605173                  48.594978   \n",
       "\n",
       "      mouth_center_bottom_lip_y  \n",
       "mean                  78.970146  \n",
       "50%                   78.696326  "
      ]
     },
     "execution_count": 36,
     "metadata": {},
     "output_type": "execute_result"
    },
    {
     "data": {
      "text/plain": [
       "<matplotlib.axes._subplots.AxesSubplot at 0x12379ac10>"
      ]
     },
     "execution_count": 36,
     "metadata": {},
     "output_type": "execute_result"
    },
    {
     "data": {
      "image/png": "[encoded data removed]",
      "text/plain": [
       "<Figure size 432x288 with 1 Axes>"
      ]
     },
     "metadata": {
      "needs_background": "light"
     },
     "output_type": "display_data"
    }
   ],
   "source": [
    "print('\\nNumber of columns with any NA value:')\n",
    "train_data.isnull().any().value_counts()\n",
    "columns_nan = train_data.columns[train_data.isna().any()].tolist()\n",
    "\n",
    "print('\\nTest skew of each distribution:')\n",
    "[(col,['Not normal' if stats.skewtest(train_data[col],nan_policy='omit').pvalue < .05 else 'Normal'][0]) for col in columns_nan]\n",
    "\n",
    "print('\\nCompare mean and median of these distribution:')\n",
    "train_data.describe().loc[['mean','50%']]\n",
    "sns.distplot(train_data[columns_nan[0]])"
   ]
  },
  {
   "cell_type": "markdown",
   "metadata": {},
   "source": [
    "Use Nearest Neighbors imputation"
   ]
  },
  {
   "cell_type": "code",
   "execution_count": 25,
   "metadata": {},
   "outputs": [],
   "source": [
    "y_train = train_data[[col for col in train_data.columns if col != 'Image']].to_numpy()\n",
    "y_train"
   ]
  },
  {
   "cell_type": "code",
   "execution_count": 34,
   "metadata": {},
   "outputs": [
    {
     "data": {
      "text/plain": [
       "False    30\n",
       "dtype: int64"
      ]
     },
     "execution_count": 34,
     "metadata": {},
     "output_type": "execute_result"
    }
   ],
   "source": [
    "imputer = KNNImputer(n_neighbors=3, weights='distance')\n",
    "tmp = imputer.fit_transform(y_train)\n",
    "pd.DataFrame(tmp).isnull().any().value_counts()"
   ]
  },
  {
   "cell_type": "code",
   "execution_count": null,
   "metadata": {},
   "outputs": [],
   "source": []
  }
 ],
 "metadata": {
  "kernelspec": {
   "display_name": "Python 3",
   "language": "python",
   "name": "python3"
  },
  "language_info": {
   "codemirror_mode": {
    "name": "ipython",
    "version": 3
   },
   "file_extension": ".py",
   "mimetype": "text/x-python",
   "name": "python",
   "nbconvert_exporter": "python",
   "pygments_lexer": "ipython3",
   "version": "3.7.6"
  }
 },
 "nbformat": 4,
 "nbformat_minor": 4
}
