{
 "cells": [
  {
   "cell_type": "code",
   "execution_count": 175,
   "metadata": {},
   "outputs": [],
   "source": [
    "import numpy as np\n",
    "import matplotlib.pyplot as plt\n",
    "import seaborn as sns\n",
    "import pandas as pd\n",
    "from scipy import stats\n",
    "from collections import Counter\n",
    "from sklearn.impute import KNNImputer\n",
    "import os, gc\n",
    "import cv2\n",
    "\n",
    "pd.set_option('display.max_columns', None)\n",
    "from IPython.core.interactiveshell import InteractiveShell\n",
    "InteractiveShell.ast_node_interactivity = \"all\""
   ]
  },
  {
   "cell_type": "markdown",
   "metadata": {},
   "source": [
    "## Functions"
   ]
  },
  {
   "cell_type": "code",
   "execution_count": 176,
   "metadata": {},
   "outputs": [],
   "source": [
    "def convert_pixels(data):\n",
    "    \"\"\"\n",
    "    Convert pixels to the right intensity 0-1 and in a square matrix.\n",
    "    \"\"\"\n",
    "    data = np.array([row.split(' ') for row in data['Image']],dtype='float') / 255.0\n",
    "    data = data.reshape(-1,96,96,1)\n",
    "    return(data)"
   ]
  },
  {
   "cell_type": "code",
   "execution_count": 177,
   "metadata": {},
   "outputs": [],
   "source": [
    "def view_img(sample_img,coord=None):\n",
    "    \"\"\"\n",
    "    Display an image. For debugging, display a coordinate on the image.\n",
    "    input:\n",
    "        - sample_img: numpy array. image to be displayed\n",
    "        - coord: lst. of coordinates in form [[x_coordinate,y_coordinate],[x_coordinate,y_coordinate]]\n",
    "    TODO handle multiple coordinates. Work out bugs with multiple coordinates\n",
    "    \"\"\"\n",
    "    plt.figure()\n",
    "    plt.imshow(sample_img.reshape(96,96),cmap='gray')\n",
    "    if coord is not None:\n",
    "        plt.scatter(coord[0],coord[1],marker = '*',c='r')\n",
    "    plt.show()"
   ]
  },
  {
   "cell_type": "code",
   "execution_count": 178,
   "metadata": {},
   "outputs": [],
   "source": [
    "def get_facial_keypoints(data,ind):\n",
    "    \"\"\"\n",
    "    Structure the coordinates for all facial keypoints for a single image.\n",
    "    inputs:\n",
    "        - data: numpy array containing rows as each image sample and columns as facial keypoint coordinates\n",
    "        - ind: index of the image\n",
    "    output:\n",
    "        - numpy array with format [[list of x-coordinates],[list of y-coordinates]]\n",
    "    \"\"\"\n",
    "    data[ind]\n",
    "    it = iter(data[ind])\n",
    "    x_coord = []\n",
    "    y_coord = []\n",
    "\n",
    "    for x in it:\n",
    "        x_coord.append(x)\n",
    "        y_coord.append(next(it))\n",
    "    \n",
    "    return(np.array([x_coord,y_coord]))\n"
   ]
  },
  {
   "cell_type": "markdown",
   "metadata": {},
   "source": [
    "## Import data"
   ]
  },
  {
   "cell_type": "code",
   "execution_count": 179,
   "metadata": {},
   "outputs": [],
   "source": [
    "train_file = '../input/training/training.csv'\n",
    "test_file = '../input/test/test.csv'\n",
    "train_data = pd.read_csv(train_file)  \n",
    "test_data = pd.read_csv(test_file)"
   ]
  },
  {
   "cell_type": "code",
   "execution_count": 180,
   "metadata": {},
   "outputs": [
    {
     "data": {
      "text/plain": [
       "(7049, 31)"
      ]
     },
     "execution_count": 180,
     "metadata": {},
     "output_type": "execute_result"
    },
    {
     "data": {
      "text/plain": [
       "(1783, 2)"
      ]
     },
     "execution_count": 180,
     "metadata": {},
     "output_type": "execute_result"
    }
   ],
   "source": [
    "train_data.shape\n",
    "test_data.shape"
   ]
  },
  {
   "cell_type": "code",
   "execution_count": 109,
   "metadata": {},
   "outputs": [],
   "source": [
    "# keep the relevant columns for the labels in the training data\n",
    "y_train = train_data[[col for col in train_data.columns if col != 'Image']].to_numpy()"
   ]
  },
  {
   "cell_type": "code",
   "execution_count": 110,
   "metadata": {},
   "outputs": [],
   "source": [
    "x_train = convert_pixels(train_data)\n",
    "x_test = convert_pixels(test_data)"
   ]
  },
  {
   "cell_type": "markdown",
   "metadata": {},
   "source": [
    "## EDA  \n",
    "**train labels**\n",
    "1. [x] Explore imputation strategies  \n",
    "    - Completed code. Will require running entire model  \n",
    "    - Perhaps take a look at images that have missing values to determine if there are inherent reasons why this is not valid.  \n",
    "    - Create a summary slide of common reasons why things are not labeled.  \n",
    "2. [ ] Explore outlier correction strategies to identify if areas of the face are mislabeled  \n",
    "    - Identified several outlier images/labeling that we may be able to throw out of the training dataset\n",
    "3. [ ] Label as -1,-1 to identify cutoff images  \n",
    "\n",
    "**train image**  \n",
    "1. [ ] Add noise via rotation, flipped image, blurring, etc. Ideally, not have to do any of these for capsule networks  \n",
    "2. [x] Explore imputation strategies  \n",
    "    - There are no missing pixels in the training or testing images.  \n",
    "3. [ ] Add preprocessing for auto-contrast adjustment  \n",
    "\n",
    "**test image**. \n",
    "1. [x] Review list of images in testing to see if poor quality images can be kept\n",
    "    - Defined a list of images to definitely throw out\n",
    "\n",
    "**overall**   \n",
    "1. [x] Update to RMSE scoring  \n",
    "2. [ ] Add code to troubleshoot the most wrongly predicted images to identify images causing large sources of error  "
   ]
  },
  {
   "cell_type": "markdown",
   "metadata": {},
   "source": [
    "### Explore NA in labels\n",
    "Based on the below analysis, distributions are fairly normal with some outliers, and mean and median are fairly similar."
   ]
  },
  {
   "cell_type": "code",
   "execution_count": 111,
   "metadata": {},
   "outputs": [
    {
     "name": "stdout",
     "output_type": "stream",
     "text": [
      "\n",
      "Number of columns with any NA value:\n"
     ]
    },
    {
     "data": {
      "text/plain": [
       "True     28\n",
       "False     3\n",
       "dtype: int64"
      ]
     },
     "execution_count": 111,
     "metadata": {},
     "output_type": "execute_result"
    },
    {
     "name": "stdout",
     "output_type": "stream",
     "text": [
      "\n",
      "Number of images missing coordinates for each feature:\n"
     ]
    },
    {
     "data": {
      "text/plain": [
       "left_eye_center_x              10\n",
       "left_eye_center_y              10\n",
       "right_eye_center_x             13\n",
       "right_eye_center_y             13\n",
       "left_eye_inner_corner_x      4778\n",
       "left_eye_inner_corner_y      4778\n",
       "left_eye_outer_corner_x      4782\n",
       "left_eye_outer_corner_y      4782\n",
       "right_eye_inner_corner_x     4781\n",
       "right_eye_inner_corner_y     4781\n",
       "right_eye_outer_corner_x     4781\n",
       "right_eye_outer_corner_y     4781\n",
       "left_eyebrow_inner_end_x     4779\n",
       "left_eyebrow_inner_end_y     4779\n",
       "left_eyebrow_outer_end_x     4824\n",
       "left_eyebrow_outer_end_y     4824\n",
       "right_eyebrow_inner_end_x    4779\n",
       "right_eyebrow_inner_end_y    4779\n",
       "right_eyebrow_outer_end_x    4813\n",
       "right_eyebrow_outer_end_y    4813\n",
       "mouth_left_corner_x          4780\n",
       "mouth_left_corner_y          4780\n",
       "mouth_right_corner_x         4779\n",
       "mouth_right_corner_y         4779\n",
       "mouth_center_top_lip_x       4774\n",
       "mouth_center_top_lip_y       4774\n",
       "mouth_center_bottom_lip_x      33\n",
       "mouth_center_bottom_lip_y      33\n",
       "dtype: int64"
      ]
     },
     "execution_count": 111,
     "metadata": {},
     "output_type": "execute_result"
    },
    {
     "name": "stdout",
     "output_type": "stream",
     "text": [
      "\n",
      "Test skew of each distribution:\n"
     ]
    },
    {
     "data": {
      "text/plain": [
       "[('left_eye_center_x', 'Not normal'),\n",
       " ('left_eye_center_y', 'Not normal'),\n",
       " ('right_eye_center_x', 'Not normal'),\n",
       " ('right_eye_center_y', 'Not normal'),\n",
       " ('left_eye_inner_corner_x', 'Not normal'),\n",
       " ('left_eye_inner_corner_y', 'Not normal'),\n",
       " ('left_eye_outer_corner_x', 'Not normal'),\n",
       " ('left_eye_outer_corner_y', 'Not normal'),\n",
       " ('right_eye_inner_corner_x', 'Not normal'),\n",
       " ('right_eye_inner_corner_y', 'Not normal'),\n",
       " ('right_eye_outer_corner_x', 'Not normal'),\n",
       " ('right_eye_outer_corner_y', 'Not normal'),\n",
       " ('left_eyebrow_inner_end_x', 'Not normal'),\n",
       " ('left_eyebrow_inner_end_y', 'Not normal'),\n",
       " ('left_eyebrow_outer_end_x', 'Not normal'),\n",
       " ('left_eyebrow_outer_end_y', 'Not normal'),\n",
       " ('right_eyebrow_inner_end_x', 'Not normal'),\n",
       " ('right_eyebrow_inner_end_y', 'Not normal'),\n",
       " ('right_eyebrow_outer_end_x', 'Not normal'),\n",
       " ('right_eyebrow_outer_end_y', 'Not normal'),\n",
       " ('mouth_left_corner_x', 'Not normal'),\n",
       " ('mouth_left_corner_y', 'Not normal'),\n",
       " ('mouth_right_corner_x', 'Normal'),\n",
       " ('mouth_right_corner_y', 'Not normal'),\n",
       " ('mouth_center_top_lip_x', 'Not normal'),\n",
       " ('mouth_center_top_lip_y', 'Not normal'),\n",
       " ('mouth_center_bottom_lip_x', 'Not normal'),\n",
       " ('mouth_center_bottom_lip_y', 'Not normal')]"
      ]
     },
     "execution_count": 111,
     "metadata": {},
     "output_type": "execute_result"
    },
    {
     "name": "stdout",
     "output_type": "stream",
     "text": [
      "\n",
      "Compare mean and median of these distribution:\n"
     ]
    },
    {
     "data": {
      "text/html": [
       "<div>\n",
       "<style scoped>\n",
       "    .dataframe tbody tr th:only-of-type {\n",
       "        vertical-align: middle;\n",
       "    }\n",
       "\n",
       "    .dataframe tbody tr th {\n",
       "        vertical-align: top;\n",
       "    }\n",
       "\n",
       "    .dataframe thead th {\n",
       "        text-align: right;\n",
       "    }\n",
       "</style>\n",
       "<table border=\"1\" class=\"dataframe\">\n",
       "  <thead>\n",
       "    <tr style=\"text-align: right;\">\n",
       "      <th></th>\n",
       "      <th>left_eye_center_x</th>\n",
       "      <th>left_eye_center_y</th>\n",
       "      <th>right_eye_center_x</th>\n",
       "      <th>right_eye_center_y</th>\n",
       "      <th>left_eye_inner_corner_x</th>\n",
       "      <th>left_eye_inner_corner_y</th>\n",
       "      <th>left_eye_outer_corner_x</th>\n",
       "      <th>left_eye_outer_corner_y</th>\n",
       "      <th>right_eye_inner_corner_x</th>\n",
       "      <th>right_eye_inner_corner_y</th>\n",
       "      <th>right_eye_outer_corner_x</th>\n",
       "      <th>right_eye_outer_corner_y</th>\n",
       "      <th>left_eyebrow_inner_end_x</th>\n",
       "      <th>left_eyebrow_inner_end_y</th>\n",
       "      <th>left_eyebrow_outer_end_x</th>\n",
       "      <th>left_eyebrow_outer_end_y</th>\n",
       "      <th>right_eyebrow_inner_end_x</th>\n",
       "      <th>right_eyebrow_inner_end_y</th>\n",
       "      <th>right_eyebrow_outer_end_x</th>\n",
       "      <th>right_eyebrow_outer_end_y</th>\n",
       "      <th>nose_tip_x</th>\n",
       "      <th>nose_tip_y</th>\n",
       "      <th>mouth_left_corner_x</th>\n",
       "      <th>mouth_left_corner_y</th>\n",
       "      <th>mouth_right_corner_x</th>\n",
       "      <th>mouth_right_corner_y</th>\n",
       "      <th>mouth_center_top_lip_x</th>\n",
       "      <th>mouth_center_top_lip_y</th>\n",
       "      <th>mouth_center_bottom_lip_x</th>\n",
       "      <th>mouth_center_bottom_lip_y</th>\n",
       "    </tr>\n",
       "  </thead>\n",
       "  <tbody>\n",
       "    <tr>\n",
       "      <th>mean</th>\n",
       "      <td>66.359021</td>\n",
       "      <td>37.651234</td>\n",
       "      <td>30.306102</td>\n",
       "      <td>37.976943</td>\n",
       "      <td>59.159339</td>\n",
       "      <td>37.944752</td>\n",
       "      <td>73.330478</td>\n",
       "      <td>37.707008</td>\n",
       "      <td>36.652607</td>\n",
       "      <td>37.989902</td>\n",
       "      <td>22.384504</td>\n",
       "      <td>38.033495</td>\n",
       "      <td>56.068513</td>\n",
       "      <td>29.332678</td>\n",
       "      <td>79.482826</td>\n",
       "      <td>29.734861</td>\n",
       "      <td>39.322137</td>\n",
       "      <td>29.502998</td>\n",
       "      <td>15.871177</td>\n",
       "      <td>30.428166</td>\n",
       "      <td>48.374186</td>\n",
       "      <td>62.715884</td>\n",
       "      <td>63.285735</td>\n",
       "      <td>75.970714</td>\n",
       "      <td>32.900404</td>\n",
       "      <td>76.179768</td>\n",
       "      <td>47.975412</td>\n",
       "      <td>72.919443</td>\n",
       "      <td>48.569472</td>\n",
       "      <td>78.970146</td>\n",
       "    </tr>\n",
       "    <tr>\n",
       "      <th>50%</th>\n",
       "      <td>66.497566</td>\n",
       "      <td>37.528055</td>\n",
       "      <td>30.251378</td>\n",
       "      <td>37.813273</td>\n",
       "      <td>59.304615</td>\n",
       "      <td>37.878040</td>\n",
       "      <td>73.247824</td>\n",
       "      <td>37.639015</td>\n",
       "      <td>36.651562</td>\n",
       "      <td>37.944075</td>\n",
       "      <td>22.535954</td>\n",
       "      <td>37.867071</td>\n",
       "      <td>56.244975</td>\n",
       "      <td>29.528872</td>\n",
       "      <td>79.784229</td>\n",
       "      <td>29.773813</td>\n",
       "      <td>39.298848</td>\n",
       "      <td>29.569347</td>\n",
       "      <td>15.785709</td>\n",
       "      <td>30.320160</td>\n",
       "      <td>48.424713</td>\n",
       "      <td>63.451421</td>\n",
       "      <td>63.178286</td>\n",
       "      <td>75.778689</td>\n",
       "      <td>32.982305</td>\n",
       "      <td>76.000592</td>\n",
       "      <td>47.905490</td>\n",
       "      <td>72.605173</td>\n",
       "      <td>48.594978</td>\n",
       "      <td>78.696326</td>\n",
       "    </tr>\n",
       "  </tbody>\n",
       "</table>\n",
       "</div>"
      ],
      "text/plain": [
       "      left_eye_center_x  left_eye_center_y  right_eye_center_x  \\\n",
       "mean          66.359021          37.651234           30.306102   \n",
       "50%           66.497566          37.528055           30.251378   \n",
       "\n",
       "      right_eye_center_y  left_eye_inner_corner_x  left_eye_inner_corner_y  \\\n",
       "mean           37.976943                59.159339                37.944752   \n",
       "50%            37.813273                59.304615                37.878040   \n",
       "\n",
       "      left_eye_outer_corner_x  left_eye_outer_corner_y  \\\n",
       "mean                73.330478                37.707008   \n",
       "50%                 73.247824                37.639015   \n",
       "\n",
       "      right_eye_inner_corner_x  right_eye_inner_corner_y  \\\n",
       "mean                 36.652607                 37.989902   \n",
       "50%                  36.651562                 37.944075   \n",
       "\n",
       "      right_eye_outer_corner_x  right_eye_outer_corner_y  \\\n",
       "mean                 22.384504                 38.033495   \n",
       "50%                  22.535954                 37.867071   \n",
       "\n",
       "      left_eyebrow_inner_end_x  left_eyebrow_inner_end_y  \\\n",
       "mean                 56.068513                 29.332678   \n",
       "50%                  56.244975                 29.528872   \n",
       "\n",
       "      left_eyebrow_outer_end_x  left_eyebrow_outer_end_y  \\\n",
       "mean                 79.482826                 29.734861   \n",
       "50%                  79.784229                 29.773813   \n",
       "\n",
       "      right_eyebrow_inner_end_x  right_eyebrow_inner_end_y  \\\n",
       "mean                  39.322137                  29.502998   \n",
       "50%                   39.298848                  29.569347   \n",
       "\n",
       "      right_eyebrow_outer_end_x  right_eyebrow_outer_end_y  nose_tip_x  \\\n",
       "mean                  15.871177                  30.428166   48.374186   \n",
       "50%                   15.785709                  30.320160   48.424713   \n",
       "\n",
       "      nose_tip_y  mouth_left_corner_x  mouth_left_corner_y  \\\n",
       "mean   62.715884            63.285735            75.970714   \n",
       "50%    63.451421            63.178286            75.778689   \n",
       "\n",
       "      mouth_right_corner_x  mouth_right_corner_y  mouth_center_top_lip_x  \\\n",
       "mean             32.900404             76.179768               47.975412   \n",
       "50%              32.982305             76.000592               47.905490   \n",
       "\n",
       "      mouth_center_top_lip_y  mouth_center_bottom_lip_x  \\\n",
       "mean               72.919443                  48.569472   \n",
       "50%                72.605173                  48.594978   \n",
       "\n",
       "      mouth_center_bottom_lip_y  \n",
       "mean                  78.970146  \n",
       "50%                   78.696326  "
      ]
     },
     "execution_count": 111,
     "metadata": {},
     "output_type": "execute_result"
    },
    {
     "data": {
      "text/plain": [
       "<matplotlib.axes._subplots.AxesSubplot at 0x7fd7540fc110>"
      ]
     },
     "execution_count": 111,
     "metadata": {},
     "output_type": "execute_result"
    },
    {
     "data": {
      "text/plain": [
       "(59.60048407784349, 73.11755841166332)"
      ]
     },
     "execution_count": 111,
     "metadata": {},
     "output_type": "execute_result"
    },
    {
     "data": {
      "image/png": "[encoded data removed]",
      "text/plain": [
       "<Figure size 432x288 with 1 Axes>"
      ]
     },
     "metadata": {
      "needs_background": "light"
     },
     "output_type": "display_data"
    }
   ],
   "source": [
    "print('\\nNumber of columns with any NA value:')\n",
    "train_data.isnull().any().value_counts()\n",
    "columns_nan = train_data.columns[train_data.isna().any()].tolist()\n",
    "\n",
    "print('\\nNumber of images missing coordinates for each feature:')\n",
    "train_data[columns_nan].isna().sum(axis=0)\n",
    "\n",
    "print('\\nTest skew of each distribution:')\n",
    "[(col,['Not normal' if stats.skewtest(train_data[col],nan_policy='omit').pvalue < .05 else 'Normal'][0]) for col in columns_nan]\n",
    "\n",
    "print('\\nCompare mean and median of these distribution:')\n",
    "train_data.describe().loc[['mean','50%']]\n",
    "sns.distplot(train_data[columns_nan[0]])\n",
    "(train_data[columns_nan[0]].mean() - 1.96*train_data[columns_nan[0]].std(), train_data[columns_nan[0]].mean() + 1.96*train_data[columns_nan[0]].std())"
   ]
  },
  {
   "cell_type": "markdown",
   "metadata": {},
   "source": [
    "Use Nearest Neighbors imputation. Takes closest 3 neighbors with the most important neighbor being the closest neighbor (`weights='distance' vs weights='uniform'`)."
   ]
  },
  {
   "cell_type": "code",
   "execution_count": 112,
   "metadata": {},
   "outputs": [],
   "source": [
    "# imputer = KNNImputer(n_neighbors=3, weights='distance')\n",
    "# y_train = imputer.fit_transform(y_train)\n",
    "\n",
    "# y_train = y_train.fillna(y_train.mean())\n",
    "# np.count_nonzero(~np.isnan(y_train))\n",
    "# y_train = np.nan_to_num(y_train,nan=y_train.mean())\n"
   ]
  },
  {
   "cell_type": "markdown",
   "metadata": {},
   "source": [
    "Compare imputed value with the actual image"
   ]
  },
  {
   "cell_type": "code",
   "execution_count": 113,
   "metadata": {},
   "outputs": [],
   "source": [
    "def missing_coord(feature:str):\n",
    "    \"\"\"\n",
    "    Compare missing labels for a specific feature with the imputed values.\n",
    "    input:\n",
    "        - feature: str. a facial keypoint we'd like to explore\n",
    "    \"\"\"\n",
    "    print(f'\\n========== Assessing missing feature: {feature} ==========')\n",
    "    x_coord = feature + '_x'\n",
    "    y_coord = feature + '_y'\n",
    "    missing_feature = train_data.loc[(train_data[x_coord].isnull()) | (train_data[y_coord].isnull()),\n",
    "                                 [x_coord,y_coord]]\n",
    "    num_col = [ind for ind,el in \n",
    "               enumerate(train_data.columns.isin([x_coord,y_coord])) if el==True]\n",
    "\n",
    "    for enum_ind,ind in enumerate(missing_feature.index):\n",
    "        if enum_ind > 10: print('Too many images missing coordinates. Only printing 10.'); break\n",
    "        impute_coord = y_train[ind][num_col]\n",
    "        view_img(x_train[ind],impute_coord)\n",
    "        print(f'Imputed {feature} coordinates for image {ind}:{impute_coord}\\n')\n",
    "\n",
    "# missing_coord('right_eye_center')\n",
    "# missing_coord('left_eye_center')\n",
    "# missing_coord('mouth_center_top_lip')\n",
    "# missing_coord('left_eyebrow_outer_end')"
   ]
  },
  {
   "cell_type": "markdown",
   "metadata": {},
   "source": [
    "### Explore NA in images\n",
    "There are no missing pixels in the training or testing images."
   ]
  },
  {
   "cell_type": "code",
   "execution_count": 114,
   "metadata": {},
   "outputs": [
    {
     "data": {
      "text/plain": [
       "0"
      ]
     },
     "execution_count": 114,
     "metadata": {},
     "output_type": "execute_result"
    }
   ],
   "source": [
    "img = [set(row.split(' ')) for row in train_data['Image']]\n",
    "['' in row for row in img].count(True)"
   ]
  },
  {
   "cell_type": "code",
   "execution_count": 115,
   "metadata": {},
   "outputs": [
    {
     "data": {
      "text/plain": [
       "0"
      ]
     },
     "execution_count": 115,
     "metadata": {},
     "output_type": "execute_result"
    }
   ],
   "source": [
    "img = [set(row.split(' ')) for row in test_data['Image']]\n",
    "['' in row for row in img].count(True)"
   ]
  },
  {
   "cell_type": "markdown",
   "metadata": {},
   "source": [
    "### Explore outliers in labels"
   ]
  },
  {
   "cell_type": "code",
   "execution_count": 116,
   "metadata": {},
   "outputs": [],
   "source": [
    "def detect_cutoff(feature:str):\n",
    "    \"\"\"\n",
    "    DEPRECATED\n",
    "    Compare outlier labels for a specific feature with the imputed values.\n",
    "    input:\n",
    "        - feature: str. a facial keypoint we'd like to explore\n",
    "    \"\"\"\n",
    "    print(f'\\n========== Assessing outlier feature: {feature} ==========')\n",
    "    x_coord = feature + '_x'\n",
    "    y_coord = feature + '_y'\n",
    "    \n",
    "    right_bound_y = train_data[y_coord].mean() + 3.5 * train_data[y_coord].std()\n",
    "    left_bound_y  = train_data[y_coord].mean() - 3.5 * train_data[y_coord].std()    \n",
    "    \n",
    "    print(f'\\ny coordinate confidence interval: {left_bound_y,right_bound_y}')\n",
    "    \n",
    "    outlier_feature = train_data.loc[(train_data[x_coord] <= left_bound_x) | (train_data[x_coord] >= right_bound_x) |\n",
    "                                     (train_data[y_coord] <= left_bound_y) | (train_data[y_coord] >= right_bound_y),\n",
    "                                 [x_coord,y_coord]]\n",
    "    \n",
    "    num_col = [ind for ind,el in \n",
    "               enumerate(train_data.columns.isin([x_coord,y_coord])) if el==True]\n",
    "\n",
    "    for enum_ind,ind in enumerate(outlier_feature.index):\n",
    "        if enum_ind > 10: print('Too many images have outlier coordinates. Only printing 10.'); break\n",
    "        impute_coord = y_train[ind][num_col]\n",
    "        view_img(x_train[ind],impute_coord)\n",
    "        print(f'Imputed {feature} coordinates for image {ind}:{impute_coord}\\n')\n"
   ]
  },
  {
   "cell_type": "code",
   "execution_count": 117,
   "metadata": {},
   "outputs": [],
   "source": [
    "# find eyes that are situated lower than average\n",
    "left_eye_upper_bound  = train_data['left_eye_center_y'].mean()  + 3 * train_data['left_eye_center_y'].std()\n",
    "right_eye_upper_bound = train_data['right_eye_center_y'].mean() + 3 * train_data['right_eye_center_y'].std()\n",
    "mouth_center_top_lip_upper_bound = train_data['mouth_center_top_lip_y'].mean() + 3 * train_data['mouth_center_top_lip_y'].std()\n",
    "\n",
    "cutoff_faces = train_data[(train_data['left_eye_center_y'] >= left_eye_upper_bound)  |\n",
    "                          (train_data['right_eye_center_y'] >= right_eye_upper_bound) |\n",
    "                          (train_data['mouth_center_top_lip_y'] >= mouth_center_top_lip_upper_bound)]\n",
    "\n",
    "    "
   ]
  },
  {
   "cell_type": "markdown",
   "metadata": {},
   "source": [
    "Remove these indices from the training dataset:\n",
    "- 1877\n",
    "- 1907\n",
    "- 2199\n",
    "- 6493"
   ]
  },
  {
   "cell_type": "code",
   "execution_count": 118,
   "metadata": {},
   "outputs": [],
   "source": [
    "# for ind in cutoff_faces.index:\n",
    "#     print('Image Index:',ind)\n",
    "#     view_img(x_train[ind],get_facial_keypoints(train_data[[col for col in train_data.columns if col != 'Image']].values,ind))\n",
    "#     view_img(x_train[ind],get_facial_keypoints(y_train,ind))\n",
    "    "
   ]
  },
  {
   "cell_type": "code",
   "execution_count": 119,
   "metadata": {},
   "outputs": [],
   "source": [
    "# remove these indices that are poor labeling and poor image quality\n",
    "mask = np.ones(x_train.shape[0],dtype=bool)\n",
    "mask[[1877,1907,2199,6493]] = False\n",
    "test = x_train[mask,:]"
   ]
  },
  {
   "cell_type": "markdown",
   "metadata": {},
   "source": [
    "### Explore test images  \n",
    "- Will need cartoons/drawings of faces\n",
    "- Will need some cutoff images (missing bottom lip, etc.)\n",
    "- Will need different ethnicities\n",
    "- Will need blurred images\n",
    "- Will need some images with dark lighting\n",
    "- Will need some images with sun glasses"
   ]
  },
  {
   "cell_type": "code",
   "execution_count": 120,
   "metadata": {},
   "outputs": [],
   "source": [
    "# # look at all images in the test set\n",
    "# for ind in range(x_test.shape[0]):\n",
    "#     view_img(x_test[ind])"
   ]
  },
  {
   "cell_type": "markdown",
   "metadata": {},
   "source": [
    "### Explore preprocessing for data"
   ]
  },
  {
   "cell_type": "markdown",
   "metadata": {},
   "source": [
    "#### Flip images horizontally"
   ]
  },
  {
   "cell_type": "code",
   "execution_count": 155,
   "metadata": {},
   "outputs": [
    {
     "data": {
      "image/png": "[encoded data removed]",
      "text/plain": [
       "<Figure size 432x288 with 1 Axes>"
      ]
     },
     "metadata": {
      "needs_background": "light"
     },
     "output_type": "display_data"
    },
    {
     "data": {
      "image/png": "[encoded data removed]",
      "text/plain": [
       "<Figure size 432x288 with 1 Axes>"
      ]
     },
     "metadata": {
      "needs_background": "light"
     },
     "output_type": "display_data"
    },
    {
     "data": {
      "image/png": "[encoded data removed]",
      "text/plain": [
       "<Figure size 432x288 with 1 Axes>"
      ]
     },
     "metadata": {
      "needs_background": "light"
     },
     "output_type": "display_data"
    },
    {
     "data": {
      "text/plain": [
       "(14098, 96, 96, 1)"
      ]
     },
     "execution_count": 155,
     "metadata": {},
     "output_type": "execute_result"
    },
    {
     "data": {
      "text/plain": [
       "(14098, 30)"
      ]
     },
     "execution_count": 155,
     "metadata": {},
     "output_type": "execute_result"
    },
    {
     "data": {
      "text/plain": [
       "(14098, 96, 96, 1)"
      ]
     },
     "execution_count": 155,
     "metadata": {},
     "output_type": "execute_result"
    },
    {
     "data": {
      "text/plain": [
       "(14098, 30)"
      ]
     },
     "execution_count": 155,
     "metadata": {},
     "output_type": "execute_result"
    },
    {
     "data": {
      "text/plain": [
       "array([66.03356391, 39.00227368, 30.22700752, 36.4216782 , 59.58207519,\n",
       "       39.64742256, 73.13034586, 39.96999699, 36.35657143, 37.3894015 ,\n",
       "       23.45287218, 37.3894015 , 56.95326316, 29.03364812, 80.22712782,\n",
       "       32.22813835, 40.22760902, 29.0023218 , 16.35637895, 29.64747068,\n",
       "       44.42057143, 57.06680301, 61.19530827, 79.97016541, 28.61449624,\n",
       "       77.38899248, 43.3126015 , 72.93545865, 43.13070677, 84.48577444])"
      ]
     },
     "execution_count": 155,
     "metadata": {},
     "output_type": "execute_result"
    },
    {
     "data": {
      "text/plain": [
       "array([29.96643609, 39.00227368, 65.77299248, 36.4216782 , 36.41792481,\n",
       "       39.64742256, 22.86965414, 39.96999699, 59.64342857, 37.3894015 ,\n",
       "       72.54712782, 37.3894015 , 39.04673684, 29.03364812, 15.77287218,\n",
       "       32.22813835, 55.77239098, 29.0023218 , 79.64362105, 29.64747068,\n",
       "       51.57942857, 57.06680301, 34.80469173, 79.97016541, 67.38550376,\n",
       "       77.38899248, 52.6873985 , 72.93545865, 52.86929323, 84.48577444])"
      ]
     },
     "execution_count": 155,
     "metadata": {},
     "output_type": "execute_result"
    }
   ],
   "source": [
    "def flip_img_horiz():\n",
    "    \"\"\"\n",
    "    Flip images horizontally for all training images\n",
    "    \"\"\"\n",
    "    # Flip images\n",
    "    flip_img = np.array([np.fliplr(x_train[[ind]][0]) for ind in range(x_train.shape[0])])\n",
    "    \n",
    "    # Flip coordinates\n",
    "    x_columns = [col for col in train_data.columns if '_x' in col]\n",
    "    train_data[x_columns] = train_data[x_columns].applymap(lambda x: 96-x)\n",
    "    flip_coord = train_data[[col for col in train_data if col != 'Image']].to_numpy()\n",
    "    return(flip_img,flip_coord)\n",
    "\n",
    "flipped_img,flipped_coord = flip_img_horiz()\n",
    "\n",
    "view_img(x_train[[5]],coord=get_facial_keypoints(y_train,5))\n",
    "view_img(flipped_img[[5]],coord=get_facial_keypoints(y_train,5))\n",
    "view_img(flipped_img[[5]],coord=get_facial_keypoints(flipped_coord,5))\n",
    "\n",
    "# add to training array\n",
    "x_train.shape\n",
    "y_train.shape\n",
    "# x_train = np.append(x_train,flipped_img,axis=0)\n",
    "# y_train = np.append(y_train,flipped_coord,axis=0)\n",
    "x_train.shape\n",
    "y_train.shape\n",
    "\n",
    "y_train[0]\n",
    "flipped_coord[0]\n"
   ]
  },
  {
   "cell_type": "markdown",
   "metadata": {},
   "source": [
    "#### Add blurring to the images"
   ]
  },
  {
   "cell_type": "code",
   "execution_count": 174,
   "metadata": {},
   "outputs": [
    {
     "data": {
      "image/png": "[encoded data removed]",
      "text/plain": [
       "<Figure size 432x288 with 1 Axes>"
      ]
     },
     "metadata": {
      "needs_background": "light"
     },
     "output_type": "display_data"
    },
    {
     "data": {
      "image/png": "[encoded data removed]",
      "text/plain": [
       "<Figure size 432x288 with 1 Axes>"
      ]
     },
     "metadata": {
      "needs_background": "light"
     },
     "output_type": "display_data"
    },
    {
     "data": {
      "image/png": "[encoded data removed]",
      "text/plain": [
       "<Figure size 432x288 with 1 Axes>"
      ]
     },
     "metadata": {
      "needs_background": "light"
     },
     "output_type": "display_data"
    },
    {
     "data": {
      "text/plain": [
       "(14098, 96, 96, 1)"
      ]
     },
     "execution_count": 174,
     "metadata": {},
     "output_type": "execute_result"
    },
    {
     "data": {
      "text/plain": [
       "(14098, 96, 96, 1)"
      ]
     },
     "execution_count": 174,
     "metadata": {},
     "output_type": "execute_result"
    }
   ],
   "source": [
    "view_img(x_train[[5]])\n",
    "view_img(cv2.GaussianBlur(x_train[[5]][0],(5,5),0))\n",
    "view_img(cv2.GaussianBlur(x_train[[5]][0],(5,5),2),coord=get_facial_keypoints(y_train,5))\n",
    "\n",
    "blurr_img = np.array([cv2.GaussianBlur(x_train[[ind]][0],(5,5),2).reshape(96,96,1) for ind in range(x_train.shape[0])])\n",
    "blurr_img.shape\n",
    "x_train.shape\n",
    "# x_train = np.append(x_train,blurr_img)\n",
    "# y_train = np.append(y_train,y_train,axis=0)"
   ]
  },
  {
   "cell_type": "code",
   "execution_count": 186,
   "metadata": {},
   "outputs": [
    {
     "data": {
      "image/png": "[encoded data removed]",
      "text/plain": [
       "<Figure size 432x288 with 1 Axes>"
      ]
     },
     "metadata": {
      "needs_background": "light"
     },
     "output_type": "display_data"
    }
   ],
   "source": [
    "rows,cols = (96,96)\n",
    "\n",
    "M = cv2.getRotationMatrix2D((cols/2,rows/2),45,1)\n",
    "dst = cv2.warpAffine(x_train[[5]].reshape(96,96,1),M,(cols,rows))\n",
    "\n",
    "\n",
    "view_img(dst)"
   ]
  },
  {
   "cell_type": "code",
   "execution_count": null,
   "metadata": {},
   "outputs": [],
   "source": []
  }
 ],
 "metadata": {
  "kernelspec": {
   "display_name": "Python 3",
   "language": "python",
   "name": "python3"
  },
  "language_info": {
   "codemirror_mode": {
    "name": "ipython",
    "version": 3
   },
   "file_extension": ".py",
   "mimetype": "text/x-python",
   "name": "python",
   "nbconvert_exporter": "python",
   "pygments_lexer": "ipython3",
   "version": "3.7.6"
  }
 },
 "nbformat": 4,
 "nbformat_minor": 4
}
